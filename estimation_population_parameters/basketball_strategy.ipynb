{
 "cells": [
  {
   "cell_type": "markdown",
   "metadata": {},
   "source": [
    "Material for the book [Probability and Statistics for Data Science](https://a.co/d/cAss9mO). A free preprint, videos, code, slides and solutions to exercises are available at https://www.ps4ds.net/\n",
    "\n",
    "Code for Example 9.40\n",
    "\n",
    "Analysis of two basketball strategies in a fictitious scenario\\\n",
    "Topics and relevant videos: [Central limit theorem, Gaussian approximation to the binomial](https://www.youtube.com/watch?v=0z4rGGcvN2Y), [the Monte Carlo method](https://www.youtube.com/watch?v=vIY_J85hHdw)\n",
    "\n",
    "Author: Carlos Fernandez-Granda"
   ]
  },
  {
   "cell_type": "code",
   "execution_count": 1,
   "metadata": {},
   "outputs": [],
   "source": [
    "from scipy.stats import norm\n",
    "import numpy as np\n",
    "from numpy.random import default_rng\n",
    "rng = default_rng(2022)"
   ]
  },
  {
   "cell_type": "code",
   "execution_count": 2,
   "metadata": {},
   "outputs": [
    {
     "name": "stdout",
     "output_type": "stream",
     "text": [
      "Monte Carlo approximation\n",
      "Probability that Strategy 3 wins: 0.5994\n"
     ]
    }
   ],
   "source": [
    "games = 1000000\n",
    "possessions = 100\n",
    "theta_2 = 0.5\n",
    "theta_3 = 0.35\n",
    "points_scored_strategy_2 = 2 * rng.binomial(possessions, theta_2, games)\n",
    "points_scored_strategy_3 = 3 * rng.binomial(possessions, theta_3, games)\n",
    "games_won_strategy_3 = np.sum(points_scored_strategy_3 > points_scored_strategy_2) \n",
    "print(\"Monte Carlo approximation\")\n",
    "print(\"Probability that Strategy 3 wins:\",round(games_won_strategy_3/games,4))"
   ]
  },
  {
   "cell_type": "code",
   "execution_count": 3,
   "metadata": {},
   "outputs": [
    {
     "name": "stdout",
     "output_type": "stream",
     "text": [
      "Gaussian approximation based on the central limit theorem\n",
      "Probability that Strategy 3 wins: 0.613\n"
     ]
    }
   ],
   "source": [
    "print(\"Gaussian approximation based on the central limit theorem\")\n",
    "print(\"Probability that Strategy 3 wins:\",round(norm.cdf(5/np.sqrt(304.75)),3))"
   ]
  },
  {
   "cell_type": "code",
   "execution_count": null,
   "metadata": {},
   "outputs": [],
   "source": []
  }
 ],
 "metadata": {
  "kernelspec": {
   "display_name": "Python 3 (ipykernel)",
   "language": "python",
   "name": "python3"
  },
  "language_info": {
   "codemirror_mode": {
    "name": "ipython",
    "version": 3
   },
   "file_extension": ".py",
   "mimetype": "text/x-python",
   "name": "python",
   "nbconvert_exporter": "python",
   "pygments_lexer": "ipython3",
   "version": "3.11.9"
  }
 },
 "nbformat": 4,
 "nbformat_minor": 4
}
