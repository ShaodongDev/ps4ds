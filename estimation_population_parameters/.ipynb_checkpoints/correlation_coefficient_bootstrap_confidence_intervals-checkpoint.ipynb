{
 "cells": [
  {
   "cell_type": "markdown",
   "id": "3854f457-c75e-4bda-bb85-5f01b589efb1",
   "metadata": {},
   "source": [
    "Material for the book [Probability and Statistics for Data Science](https://a.co/d/cAss9mO). A free preprint, videos, code, slides and solutions to exercises are available at https://www.ps4ds.net/\n",
    "\n",
    "Code for Figure 9.23\n",
    "\n",
    "Bootstrap percentile confidence intervals for the correlation coefficient between height and foot length in a population in a scenario where we know the true population correlation coefficient\\\n",
    "Topics and relevant videos: [Bootstrap percentile confidence intervals](https://www.youtube.com/watch?v=81ehHDB1Owo)\n",
    "\n",
    "Author: Carlos Fernandez-Granda\\\n",
    "Data source: http://mreed.umtri.umich.edu/mreed/downloads.html"
   ]
  },
  {
   "cell_type": "code",
   "execution_count": 1,
   "id": "7b024ffd-0311-4098-888f-7ae747d7a9bf",
   "metadata": {},
   "outputs": [
    {
     "name": "stdout",
     "output_type": "stream",
     "text": [
      "Population correlation coefficient: 0.718083551334714\n"
     ]
    }
   ],
   "source": [
    "import pandas as pd\n",
    "import numpy as np\n",
    "import matplotlib.pyplot as plt \n",
    "from scipy import stats\n",
    "from scipy.stats import norm\n",
    "from scipy.stats import gaussian_kde\n",
    "from numpy.random import default_rng\n",
    "import seaborn as sns\n",
    "import matplotlib\n",
    "# matplotlib.rcParams['text.usetex'] = True\n",
    "# matplotlib.rc('font', family='serif', serif='cm10')\n",
    "# matplotlib.rc('text', usetex=True)\n",
    "import matplotlib.transforms\n",
    "\n",
    "font_size = 15\n",
    "font_size_legend = 15\n",
    "font_size_ticks = 15\n",
    "\n",
    "# alldata = pd.read_csv (\"../data/ANSUR II MALE Public.csv\", encoding='latin-1')\n",
    "\n",
    "url = \"https://raw.githubusercontent.com/cfgranda/ps4ds/main/data/ANSUR%20II%20MALE%20Public.csv\"\n",
    "\n",
    "alldata = pd.read_csv(url, encoding='latin-1')\n",
    "\n",
    "stature = alldata['stature'] / 10.\n",
    "foot = alldata['footlength']/10.\n",
    "\n",
    "stature_min = stature.min()\n",
    "stature_max = stature.max()\n",
    "foot_min = foot.min()\n",
    "foot_max = foot.max()\n",
    "\n",
    "data = np.stack((stature,foot))\n",
    "\n",
    "rho_pop = np.corrcoef(data)[0,1]\n",
    "print(\"Population correlation coefficient: \" + str(rho_pop))"
   ]
  },
  {
   "cell_type": "code",
   "execution_count": null,
   "id": "3f7c5fad-93c5-4777-83ce-bfdebb990972",
   "metadata": {},
   "outputs": [],
   "source": [
    "n = 25\n",
    "\n",
    "rng = default_rng(1234)\n",
    "tries = int(1e6)# Takes a while, change to 1e5 to make it faster\n",
    "\n",
    "sample_rhos = np.zeros(tries)\n",
    "for ind_tries in range(tries):\n",
    "    indices = rng.choice(data.shape[1],n,replace=True)\n",
    "    sample_rhos[ind_tries] = np.corrcoef(data[:,indices])[0,1]"
   ]
  },
  {
   "cell_type": "code",
   "execution_count": null,
   "id": "6dce23b4-95e8-445a-9ba3-0f55b3620c25",
   "metadata": {},
   "outputs": [],
   "source": [
    "x_min = 0\n",
    "x_max = 1.025\n",
    "x = np.linspace(x_min,x_max,500)\n",
    "y_max = 4.2\n",
    "eps = 1e-3\n",
    "x = np.linspace(x_min, x_max, 1000)\n",
    "\n",
    "fig = plt.figure(figsize=(7.5,3))\n",
    "pdf = gaussian_kde(sample_rhos,bw_method=0.1)\n",
    "plt.plot(x,pdf(x),lw=2,color=\"black\")\n",
    "plt.vlines(rho_pop, 0,y_max,lw=3,ls=\"dotted\",color=\"black\",label=\"Population correlation coefficient\")\n",
    "[l,u] = np.percentile(sample_rhos,[2.5, 97.5])\n",
    "x_aux = x[x>l]\n",
    "x_aux = x_aux[x_aux<u]\n",
    "plt.ylim([0,y_max])\n",
    "plt.xlim([x_min,x_max])\n",
    "plt.yticks([0,1,2,3,4],fontsize=font_size_ticks)\n",
    "plt.xticks(fontsize=font_size_ticks)\n",
    "ax = plt.gca()\n",
    "plt.title(r\"Pdf of the sample correlation coefficient\",fontsize=font_size,pad=15)\n",
    "plt.xlabel(r\"Height (cms)\",fontsize=font_size,labelpad=5)\n",
    "plt.legend(fontsize=font_size_legend,framealpha=1);"
   ]
  },
  {
   "cell_type": "code",
   "execution_count": null,
   "id": "5f4cc0da",
   "metadata": {},
   "outputs": [],
   "source": [
    "rng = default_rng(1234567)\n",
    "step = 5\n",
    "\n",
    "n_bs = int(1e6)\n",
    "tries = 3\n",
    "\n",
    "plt.figure(figsize=(10,9))\n",
    "plt.xticks([0,0.25,0.5,rho_pop,1],[0,0.25,0.5,r\"$\\rho_{pop}$\",1],fontsize=font_size)\n",
    "plt.yticks([]) \n",
    "plt.vlines(rho_pop, -1,tries * step,lw=3,ls=\"dotted\",color=\"black\")\n",
    "plt.xlim(x_min,x_max)\n",
    "plt.ylim(-0.5,3 * step)\n",
    "plt.ylabel(r\"Bootstrap distributions and percentile confidence intervals\",fontsize=font_size,labelpad=5)\n",
    "plt.xlabel('Correlation',fontsize=font_size,labelpad=5)\n",
    "for ind in range(tries):\n",
    "    indices = rng.choice(data.shape[1],n,replace=True)\n",
    "    sample_rho = np.corrcoef(data[:,indices])[0,1]\n",
    "    sample_rho_bs = np.zeros(n_bs)\n",
    "    for ind_bs in range(n_bs):\n",
    "        indices_bs = rng.choice(indices,n,replace=True)\n",
    "        sample_rho_bs[ind_bs] = np.corrcoef(data[:,indices_bs])[0,1]\n",
    "    pdf_bs = gaussian_kde(sample_rho_bs,bw_method=0.1)\n",
    "    plt.plot(x,ind * step + pdf_bs(x),lw=2.5,color=\"black\")\n",
    "\n",
    "    [l,u] = np.percentile(sample_rho_bs,[2.5, 97.5])\n",
    "    x_aux = x[x>l]\n",
    "    x_aux = x_aux[x_aux<u]\n",
    "    if ind == 0:\n",
    "        plt.fill_between(x=x_aux,y1=ind * step,y2=ind * step + pdf_bs(x_aux),color=\"lightgray\",label=\"Probability = 0.95\")\n",
    "    else:\n",
    "        plt.fill_between(x=x_aux,y1=ind * step,y2=ind * step + pdf_bs(x_aux),color=\"lightgray\")\n",
    "    if u < rho_pop or l > rho_pop:\n",
    "        plt.hlines(ind * step,l,u,lw=3,color=\"black\",ls=\"dashed\")\n",
    "    else:\n",
    "        plt.hlines(ind * step,l,u,lw=3,color=\"black\")\n",
    "    if ind == 0:\n",
    "        plt.plot(sample_rho,ind * step,\"o\",markersize=10,markeredgewidth=3,markerfacecolor = \"white\",\n",
    "                 markeredgecolor = \"black\",label=\"Sample correlation coefficient\")\n",
    "    else:\n",
    "        plt.plot(sample_rho,ind * step,\"o\",markersize=10,markeredgewidth=3,markerfacecolor = \"white\",\n",
    "                 markeredgecolor = \"black\")\n",
    "plt.legend(fontsize=font_size_legend,loc=\"upper left\",framealpha=1)"
   ]
  },
  {
   "cell_type": "code",
   "execution_count": null,
   "id": "b01bcd0c-e3eb-454f-9118-c3fc4004dee7",
   "metadata": {},
   "outputs": [],
   "source": []
  }
 ],
 "metadata": {
  "kernelspec": {
   "display_name": "Python 3 (ipykernel)",
   "language": "python",
   "name": "python3"
  },
  "language_info": {
   "codemirror_mode": {
    "name": "ipython",
    "version": 3
   },
   "file_extension": ".py",
   "mimetype": "text/x-python",
   "name": "python",
   "nbconvert_exporter": "python",
   "pygments_lexer": "ipython3",
   "version": "3.11.9"
  }
 },
 "nbformat": 4,
 "nbformat_minor": 5
}
