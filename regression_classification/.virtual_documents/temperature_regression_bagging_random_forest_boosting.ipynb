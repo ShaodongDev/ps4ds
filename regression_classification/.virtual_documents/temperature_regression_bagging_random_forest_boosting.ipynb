import matplotlib.pyplot as plt
import numpy as np
from sklearn.linear_model import LinearRegression
from os import listdir
from scipy import stats
import datetime as dt
import random

font_size = 15
font_size_ticks = 15

np.set_printoptions(precision=3)


file_name_temperature_2015 = "../data/weather/temperatures_2015.npy"
file_name_temperature_2016 = "../data/weather/temperatures_2016.npy"
file_name_times_2015 = "../data/weather/times_2015.npy"
file_name_times_2016 = "../data/weather/times_2016.npy"
file_name_dates_2015 = "../data/weather/dates_2015.npy"
file_name_dates_2016 = "../data/weather/dates_2016.npy"

data_matrix_2015 = np.load(file_name_temperature_2015)
data_matrix_2016 = np.load(file_name_temperature_2016)
time_matrix_2015 = np.load(file_name_times_2015)
time_matrix_2016 = np.load(file_name_times_2016)
date_matrix_2015 = np.load(file_name_dates_2015)
date_matrix_2016 = np.load(file_name_dates_2016)

file_name_list = np.load('../data/weather/weather_station_names.npy')

def process_name(x):
    x = x[14:]
    x = x[:-7]
    x = x.translate(str.maketrans('','','_1234567890'))
    return x[2:] + ", " + x[:2]


station = 52 
name = process_name(file_name_list[station]) 
print(name)


def remove_faulty_measurements(data,verbose):
    min_val = -100 # We assume temperatures cannot be lower than -100
    for ind in range(len(data)):
        median = np.median(data[data > min_val])
        if data[ind] < min_val:
            if verbose:
                print(str(ind) + ": " + str(data[ind]))
            aux_ind = ind-1
            while aux_ind > 0:
                if data[aux_ind] > min_val:
                    data[ind] = data[aux_ind]
                    if verbose:
                        print("Entry " + str(aux_ind) + " changed to " + str(data[ind]))
                    break
                else:
                    ind -= 1
    return data

verbose = False
temperature_2015 = remove_faulty_measurements(data_matrix_2015[:,station],verbose)
n_2015 = len(temperature_2015)
temperature_2016 = remove_faulty_measurements(data_matrix_2016[:,station],verbose)
n_2016 = len(temperature_2016)


hour_2015 = (time_matrix_2015[:,station]/100).astype(int)
hour_2016 = (time_matrix_2016[:,station]/100).astype(int)

day_2015 = np.array([dt.datetime.strptime(str(int(date)), '%Y%m%d').timetuple().tm_yday for date in date_matrix_2015[:,station]])
day_2016 = np.array([dt.datetime.strptime(str(int(date)), '%Y%m%d').timetuple().tm_yday for date in date_matrix_2016[:,station]])

n_data_366 = np.sum(day_2016==366)
temperature_2016 = temperature_2016[:-n_data_366]
day_2016 = day_2016[:-n_data_366]
hour_2016 = hour_2016[:-n_data_366]


n_days = 365
n_hours = 24

print(temperature_2015[(hour_2015 == 19) & (day_2015 == 12)])

temperature_grid_2015 = np.zeros((n_hours,n_days))
temperature_grid_2016 = np.zeros((n_hours,n_days))
for h in np.arange(0,n_hours,1):
    for m in np.arange(1,n_days+1,1):
        temperature_grid_2015[h,m-1] = np.mean(temperature_2015[(hour_2015 == h) & (day_2015 == m)])
        temperature_grid_2016[h,m-1] = np.mean(temperature_2016[(hour_2016 == h) & (day_2016 == m)])
max_mean_temp_2015 = np.max(temperature_grid_2015)
max_mean_temp_2016 = np.max(temperature_grid_2016)
max_mean_temp = np.max(np.array([max_mean_temp_2015,max_mean_temp_2016]))
min_mean_temp_2015 = np.min(temperature_grid_2015)
min_mean_temp_2016 = np.min(temperature_grid_2016)
min_mean_temp = np.min(np.array([min_mean_temp_2015,min_mean_temp_2016]))
print(max_mean_temp)
print(min_mean_temp)


figsize = (12,9)
plt.figure(figsize = (12,9)) 
im = plt.imshow(temperature_grid_2015, cmap='gray', vmin=min_mean_temp, vmax=max_mean_temp,
                #extent=[0,n_hours,1, n_months+1],
                origin='lower', aspect='auto')
# cbar = plt.colorbar(im)
# cbar.ax.tick_params(labelsize=font_size_ticks,pad = 20)
# cbar.set_label(label='Temperature (°C)',fontsize=font_size,labelpad = 20)
plt.xticks(fontsize=font_size_ticks)
plt.yticks(fontsize=font_size_ticks) 
plt.xlabel('Day of the year',fontsize=font_size,labelpad = 10)
plt.ylabel('Hour of the day',fontsize=font_size,labelpad = 15)
plt.savefig('plots/tree_temp_data_2015.pdf',bbox_inches="tight")

fig,ax = plt.subplots(figsize=(9,9))
cbar = plt.colorbar(im,ax=ax)
# cbar.ax.set_ylim(0, 1.0)
cbar.ax.tick_params(labelsize=font_size_ticks,pad = 20)
cbar.set_label(label='Temperature (°C)',fontsize=font_size,labelpad = 20)
ax.remove()
# plt.savefig('plots/tree_temp_colorbar.pdf',bbox_inches="tight")


plt.figure(figsize = figsize) 
im = plt.imshow(temperature_grid_2016, cmap='gray', vmin=min_mean_temp, vmax=max_mean_temp,
                    #extent=[0,n_hours,0, n_months],
                    origin='lower', aspect='auto')
# cbar = plt.colorbar(im)
# cbar.ax.tick_params(labelsize=font_size_ticks,pad = 20)
# cbar.set_label(label='Temperature (°C)',fontsize=font_size,labelpad = 20)
plt.xticks(fontsize=font_size_ticks)
plt.yticks(fontsize=font_size_ticks) 
plt.xlabel('Day of the year',fontsize=font_size,labelpad = 10)
plt.ylabel('Hour of the day',fontsize=font_size,labelpad = 15)
# plt.savefig('plots/tree_temp_data_2016.pdf',bbox_inches="tight")


def inds_region(r,day,hour):
    return ( (day >= r["day_lims"][0]) & (day <= r["day_lims"][1]) 
                             & (hour >= r["hour_lims"][0]) & (hour <= r["hour_lims"][1]) )

def tree_estimate(regions,temperature,day,hour,plot_estimate=False,save_str="",verbose=False):
    err_2015 = 0
    err_2016 = 0
    n_regions = len(regions)
    estimate_grid = np.zeros((n_hours,n_days))
    for ind_r,r in enumerate(regions):
        inds_r = inds_region(r,day,hour)
        temp_region = temperature[inds_r]
        est_region = np.mean(temp_region)
        estimate_grid[r["hour_lims"][0]:(r["hour_lims"][1]+1),(r["day_lims"][0]-1):r["day_lims"][1]] = est_region
    if plot_estimate:
        plt.figure(figsize = figsize) 
        im = plt.imshow(estimate_grid, cmap='gray', vmin=min_mean_temp, vmax=max_mean_temp,
                        origin='lower', aspect='auto')
    #     cbar = plt.colorbar(im)
    #     cbar.ax.tick_params(labelsize=font_size_ticks,pad = 20)
    #     cbar.set_label(label='Temperature (°C)',fontsize=font_size,labelpad = 20)
        plt.xticks(fontsize=font_size_ticks)
        plt.yticks(fontsize=font_size_ticks) 
        plt.xlabel('Day of the year',fontsize=font_size,labelpad = 10)
        plt.ylabel('Hour of the day',fontsize=font_size,labelpad = 15)
    #    plt.savefig('plots/tree_temp_'+save_str+'.pdf',bbox_inches="tight")
    
    return estimate_grid


def find_split(feature,data,possible_thresholds, verbose=True):
    err_vals = np.zeros(len(possible_thresholds))
    best_thresh = 0
    best_err = -1
    for ind,thresh in enumerate(possible_thresholds):
        left_split = data[feature < thresh]
        right_split = data[feature >= thresh]
        if right_split.size > 0:
            estimate_right_split = np.mean(right_split)
            if left_split.size >0:
                estimate_left_split = np.mean(left_split)
                err_vals[ind] = np.sum((left_split-estimate_left_split)**2) + np.sum((right_split-estimate_right_split)**2)
            else:
                err_vals[ind] = np.sum((right_split-estimate_right_split)**2)
            if verbose:
                print(thresh)
                print("left split: ",len(left_split))
                print("right split: ",len(right_split))
                if len(left_split)>0:
                    print("estimate left split: ",estimate_left_split)
                print("estimate right split: ",estimate_right_split)
                print("squared error: ",err_vals[ind])
    return err_vals


def recursive_binary_splitting(temperature,day,hour,n_splits,randomize=False,n_rand=8,verbose=False,find_split_verbose=False):
    first_region = {
      "day_lims": [1,n_days],
      "hour_lims": [0,n_hours-1]
    }
    regions = [first_region]

    if verbose:
        print("First region")
        print("Estimate",np.mean(temperature))

    for ind_splits in range(n_splits):

        if verbose:
            print("Split",ind_splits+1)

        split_region_ind = -1
        split_feature = ""
        split_thresh = -1
        best_err_decrease = 0

        for ind_r,r in enumerate(regions):

            inds_r = inds_region(r,day,hour)
            temp_r = temperature[inds_r]
            day_r = day[inds_r]
            hour_r = hour[inds_r]
            err_region = np.sum((temp_r-np.mean(temp_r))**2)
            random_choice = random.randint(0,n_rand-1)
            if randomize and random_choice < 2:
                if random_choice == 0:
                    feature = "day"
                    possible_thresholds_day = np.arange(r["day_lims"][0],r["day_lims"][1]+1)
                    err_day = find_split(day_r,temp_r,possible_thresholds_day,find_split_verbose)
                    best_err_day_ind = np.argmin(err_day)
                    best_err_day = err_day[best_err_day_ind]
                    thresh = possible_thresholds_day[best_err_day_ind]
                    err_decrease = err_region-best_err_day
                else:
                    feature = "hour"
                    possible_thresholds_hour = np.arange(r["hour_lims"][0],r["hour_lims"][1]+1)
                    err_hour = find_split(hour_r,temp_r,possible_thresholds_hour,find_split_verbose)
                    best_err_hour_ind = np.argmin(err_hour)
                    best_err_hour = err_hour[best_err_hour_ind]
                    thresh = possible_thresholds_hour[best_err_hour_ind]
                    err_decrease = err_region-best_err_hour
            else:
                possible_thresholds_day = np.arange(r["day_lims"][0],r["day_lims"][1]+1)
                # print(r["day_lims"][0],r["day_lims"][1]+1)
                err_day = find_split(day_r,temp_r,possible_thresholds_day,find_split_verbose)
                best_err_day_ind = np.argmin(err_day)
                best_err_day = err_day[best_err_day_ind]
                possible_thresholds_hour = np.arange(r["hour_lims"][0],r["hour_lims"][1]+1)
                err_hour = find_split(hour_r,temp_r,possible_thresholds_hour,find_split_verbose)
                best_err_hour_ind = np.argmin(err_hour)
                best_err_hour = err_hour[best_err_hour_ind]
                if best_err_day < best_err_hour:
                    feature = "day"
                    thresh = possible_thresholds_day[best_err_day_ind]
                    err_decrease = err_region-best_err_day
                else:
                    feature = "hour"
                    thresh = possible_thresholds_hour[best_err_hour_ind]
                    err_decrease = err_region-best_err_hour
                
            if split_region_ind == -1 or err_decrease > best_err_decrease:
                split_region_ind = ind_r
                split_feature = feature
                split_thresh = thresh
                best_err_decrease = err_decrease
#                 print("Region to split",regions[split_region_ind])
#                 print("Feature",split_feature)
#                 print("Threshold",split_thresh)
#                 print("Error",best_err_decrease)
#                 print("Error day",err_region-err_day)
#                 print("Error hour",err_region-err_hour)
            if verbose:
                print("Region to split",regions[split_region_ind])
                print("Feature",split_feature)
                print("Threshold",split_thresh)

        split_region = regions[split_region_ind]

        if split_feature == "day":

            day_lims_left = [split_region["day_lims"][0],split_thresh-1]
            hour_lims_left = split_region["hour_lims"]
            day_lims_right = [split_thresh,split_region["day_lims"][1]]
            hour_lims_right = split_region["hour_lims"]

        else:

            day_lims_left = split_region["day_lims"]
            hour_lims_left = [split_region["hour_lims"][0],split_thresh-1]
            day_lims_right = split_region["day_lims"]
            hour_lims_right = [split_thresh,split_region["hour_lims"][1]]        

        region_left = {
          "day_lims": day_lims_left,
          "hour_lims": hour_lims_left
        }
        region_right = {
          "day_lims": day_lims_right,
          "hour_lims": hour_lims_right
        }

        if verbose:
                print("New left region",region_left)
                est_left = np.mean(temperature_2015[inds_region(region_left,day,hour)])
                print("Estimate",est_left)
                print("New right region",region_right)  
                est_right = np.mean(temperature_2015[inds_region(region_right,day,hour)])
                print("Estimate",est_right)

        regions.pop(split_region_ind)
        regions.append(region_left)
        regions.append(region_right)
    return regions


n_splits = 4
regions_2015 = recursive_binary_splitting(temperature_2015,day_2015,hour_2015,n_splits)
save_str= ""
verbose = True
plot_estimate=True
estimate = tree_estimate(regions_2015,temperature_2015,day_2015,hour_2015,plot_estimate,save_str,verbose)


def compute_error(estimate, temperature,day,hour):
    ASE = 0
    n = len(temperature)
    for ind in range(n):
        ASE += (temperature[ind] - estimate[hour[ind],day[ind]-1])**2
    root_ASE = np.sqrt(ASE/n)
    return root_ASE

n_2015 = len(temperature_2015)

n_bootstrap = 50
n_splits = 4
randomize = False
n_rand = 10

error_2015_bagging = np.zeros(n_bootstrap)
error_2016_bagging = np.zeros(n_bootstrap)

plot_inds = [0,3,6,8,14,26,31]
plot_trees_bagging = []
plot_bagging = []

for ind_b in range(n_bootstrap):
    
    random.seed(ind_b)
    bootstrap_inds = random.choices(np.arange(0,n_2015),k=n_2015)
    # print(bootstrap_inds[:10])

    temp_b = temperature_2015[bootstrap_inds]
    hour_b = hour_2015[bootstrap_inds]
    day_b = day_2015[bootstrap_inds]

    verbose = False
    find_split_verbose=False
    regions_b = recursive_binary_splitting(temp_b,day_b,hour_b,n_splits,randomize,n_rand,verbose,find_split_verbose)
    save_str= ""
    estimate = tree_estimate(regions_b,temp_b,day_b,hour_b)
    if ind_b == 0:
        sum_trees = np.copy(estimate)
    else:
        sum_trees += estimate
    bagging_estimate = sum_trees / (ind_b + 1)
    error_2015_bagging[ind_b] = compute_error(bagging_estimate, temperature_2015,day_2015,hour_2015)
    error_2016_bagging[ind_b] = compute_error(bagging_estimate, temperature_2016,day_2016,hour_2016)
    if ind_b in plot_inds:
        plot_trees_bagging.append(estimate)
        plot_bagging.append(bagging_estimate)


plt.figure(figsize = figsize) 
im = plt.imshow(bagging_estimate, cmap='gray', vmin=min_mean_temp, vmax=max_mean_temp,
                origin='lower', aspect='auto')
#     cbar = plt.colorbar(im)
#     cbar.ax.tick_params(labelsize=font_size_ticks,pad = 20)
#     cbar.set_label(label='Temperature (°C)',fontsize=font_size,labelpad = 20)
plt.xticks(fontsize=font_size_ticks)
plt.yticks(fontsize=font_size_ticks) 
plt.xlabel('Day of the year',fontsize=font_size,labelpad = 10)
plt.ylabel('Hour of the day',fontsize=font_size,labelpad = 15)
#    plt.savefig('plots/tree_temp_'+save_str+'.pdf',bbox_inches="tight")


n_2015 = len(temperature_2015)

randomize = True
n_rand = 10

error_2015_random_forest = np.zeros(n_bootstrap)
error_2016_random_forest = np.zeros(n_bootstrap)

verbose = False
find_split_verbose=False

plot_trees_random_forest = []
plot_random_forest = []

for ind_b in range(n_bootstrap):
    
    random.seed(ind_b)
    bootstrap_inds = random.choices(np.arange(0,n_2015),k=n_2015)
    # print(bootstrap_inds[:10])

    temp_b = temperature_2015[bootstrap_inds]
    hour_b = hour_2015[bootstrap_inds]
    day_b = day_2015[bootstrap_inds]

    regions_b = recursive_binary_splitting(temp_b,day_b,hour_b,n_splits,randomize,n_rand,verbose,find_split_verbose)
    save_str= ""
    estimate = tree_estimate(regions_b,temp_b,day_b,hour_b)
    if ind_b == 0:
        sum_trees = np.copy(estimate)
    else:
        sum_trees += estimate
    random_forest_estimate = sum_trees / (ind_b + 1)
    error_2015_random_forest[ind_b] = compute_error(random_forest_estimate, temperature_2015,day_2015,hour_2015)
    error_2016_random_forest[ind_b] = compute_error(random_forest_estimate, temperature_2016,day_2016,hour_2016)

    if ind_b in plot_inds:
        plot_trees_random_forest.append(estimate)
        plot_random_forest.append(random_forest_estimate)


vmax = -1
vmin = 1e6

for ind in range(len(plot_inds)):
    max_trees_bagging = np.max(plot_trees_bagging[ind])
    #max_bagging = np.max(plot_bagging[ind])
    max_trees_random_forest = np.max(plot_trees_random_forest[ind])
    #max_random_forest = np.max(plot_random_forest[ind])
    max_all = np.max(np.array([max_trees_bagging,max_trees_random_forest]))
    min_trees_bagging = np.min(plot_trees_bagging[ind])
    #min_bagging = np.min(plot_bagging[ind])
    min_trees_random_forest = np.min(plot_trees_random_forest[ind])
    #min_random_forest = np.min(plot_random_forest[ind])
    min_all = np.min(np.array([min_trees_bagging,min_trees_random_forest]))
    if vmax < max_all:
        vmax = max_all
    if vmin > min_all:
        vmin = min_all
print(vmax)
print(vmin)

for ind in range(len(plot_inds)-1):
    plt.figure(figsize = figsize) 
    im = plt.imshow(plot_trees_bagging[ind], cmap='gray', vmin=vmin, vmax=vmax,
                    origin='lower', aspect='auto')
    #     cbar = plt.colorbar(im)
    #     cbar.ax.tick_params(labelsize=font_size_ticks,pad = 20)
    #     cbar.set_label(label='Temperature (°C)',fontsize=font_size,labelpad = 20)
    plt.xticks(fontsize=font_size_ticks)
    plt.yticks(fontsize=font_size_ticks) 
    plt.xlabel('Day of the year',fontsize=font_size,labelpad = 10)
    plt.ylabel('Hour of the day',fontsize=font_size,labelpad = 15)
    plt.savefig('plots/temp_bagging_tree_'+str(plot_inds[ind])+'.pdf',bbox_inches="tight")
    
    plt.figure(figsize = figsize) 
    im = plt.imshow(plot_trees_random_forest[ind], cmap='gray', vmin=vmin, vmax=vmax,
                    origin='lower', aspect='auto')
    #     cbar = plt.colorbar(im)
    #     cbar.ax.tick_params(labelsize=font_size_ticks,pad = 20)
    #     cbar.set_label(label='Temperature (°C)',fontsize=font_size,labelpad = 20)
    plt.xticks(fontsize=font_size_ticks)
    plt.yticks(fontsize=font_size_ticks) 
    plt.xlabel('Day of the year',fontsize=font_size,labelpad = 10)
    plt.ylabel('Hour of the day',fontsize=font_size,labelpad = 15)
    plt.savefig('plots/temp_random_forest_tree_'+str(plot_inds[ind])+'.pdf',bbox_inches="tight")
    
fig,ax = plt.subplots(figsize=(9,9))
cbar = plt.colorbar(im,ax=ax)
# cbar.ax.set_ylim(0, 1.0)
cbar.ax.tick_params(labelsize=font_size_ticks,pad = 20)
cbar.set_label(label='Temperature (°C)',fontsize=font_size,labelpad = 20)
ax.remove()
plt.savefig('plots/temp_bagging_random_forest_tree_colorbar.pdf',bbox_inches="tight")
    


max_bagging = np.max(plot_bagging[-1])
max_random_forest = np.max(plot_random_forest[-1])
max_all = np.max(np.array([max_bagging,max_random_forest]))
min_bagging = np.min(plot_bagging[-1])
min_random_forest = np.min(plot_random_forest[-1])
min_all = np.min(np.array([min_bagging,min_random_forest]))
print(max_all)
print(min_all)

plt.figure(figsize = figsize) 
im = plt.imshow(plot_bagging[-1], cmap='gray', vmin=min_all, vmax=max_all,
                origin='lower', aspect='auto')
#     cbar = plt.colorbar(im)
#     cbar.ax.tick_params(labelsize=font_size_ticks,pad = 20)
#     cbar.set_label(label='Temperature (°C)',fontsize=font_size,labelpad = 20)
plt.xticks(fontsize=font_size_ticks)
plt.yticks(fontsize=font_size_ticks) 
plt.xlabel('Day of the year',fontsize=font_size,labelpad = 10)
plt.ylabel('Hour of the day',fontsize=font_size,labelpad = 15)
plt.savefig('plots/temp_bagging_model.pdf',bbox_inches="tight")
    
plt.figure(figsize = figsize) 
im = plt.imshow(plot_random_forest[-1], cmap='gray', vmin=min_all, vmax=max_all,
                origin='lower', aspect='auto')
#     cbar = plt.colorbar(im)
#     cbar.ax.tick_params(labelsize=font_size_ticks,pad = 20)
#     cbar.set_label(label='Temperature (°C)',fontsize=font_size,labelpad = 20)
plt.xticks(fontsize=font_size_ticks)
plt.yticks(fontsize=font_size_ticks) 
plt.xlabel('Day of the year',fontsize=font_size,labelpad = 10)
plt.ylabel('Hour of the day',fontsize=font_size,labelpad = 15)
plt.savefig('plots/temp_random_forest_model.pdf',bbox_inches="tight")

fig,ax = plt.subplots(figsize=(9,9))
cbar = plt.colorbar(im,ax=ax)
# cbar.ax.set_ylim(0, 1.0)
cbar.ax.tick_params(labelsize=font_size_ticks,pad = 20)
cbar.set_label(label='Temperature (°C)',fontsize=font_size,labelpad = 20)
ax.remove()
plt.savefig('plots/temp_bagging_random_forest_colorbar.pdf',bbox_inches="tight")
    


msize=10
medgewidth=2
n_trees = np.arange(1,n_bootstrap+1)
fontsize_smaller = 30

plt.figure(figsize=(18,18))
plt.xticks(fontsize=fontsize_smaller) 
plt.yticks(fontsize=fontsize_smaller)
plt.xlim([0.5,n_bootstrap+0.5])
plt.grid()
plt.ylabel(r'Error ($^\circ$C)',fontsize=fontsize_smaller,labelpad = 15)
plt.xlabel(r'Number of trees in ensemble',fontsize=fontsize_smaller,labelpad = 15)

plt.plot(n_trees,error_2016_bagging,color="black",markersize=msize, 
         marker='o',markeredgewidth=medgewidth, ls = 'None',markeredgecolor="black",
         label="Bagging (test)")
plt.plot(n_trees,error_2016_random_forest,color="black",markersize=msize+4, 
                 marker='*',markeredgewidth=medgewidth, ls = 'None',markeredgecolor="black",
                 label="Random forest (test)")
plt.plot(n_trees,error_2015_bagging,color="white",markersize=msize, 
         marker='o', markeredgewidth=medgewidth,ls = 'None',markeredgecolor="black",
         label="Bagging (training)")
plt.plot(n_trees,error_2015_random_forest,color="white",markersize=msize+5, 
                 marker='*', markeredgewidth=medgewidth,ls = 'None',markeredgecolor="black",
                 label="Random forest (training)")
plt.legend(fontsize=fontsize_smaller,loc="center right",framealpha=1)
plt.savefig('plots/bagging_random_forest_errors.pdf',bbox_inches="tight")



print("Bagging training error",error_2015_bagging[31])
print("Bagging test error",error_2016_bagging[31])
print("Random forest training error",error_2015_random_forest[31])
print("Random forest error",error_2016_random_forest[31])


boosting_constant_vals = [1,0.1]
n_boosting_vals = len(boosting_constant_vals)
n_iter = 50
error_2015_boosting = np.zeros((n_boosting_vals,n_iter))
error_2016_boosting = np.zeros((n_boosting_vals,n_iter))


# verbose = False
# find_split_verbose=False
# randomize = False

n_splits = 4

n = len(temperature_2015)

plot_inds = [0,1,3,4,9,14,19,29,35]
plot_trees_boosting = [[],[]]
plot_boosting = [[],[]]

for ind_constant,boosting_constant in enumerate(boosting_constant_vals):
    residual = np.copy(temperature_2015)
    boosting_estimate = 0
    
    for iteration in range(n_iter):
        
        regions = recursive_binary_splitting(residual,day_2015,hour_2015,n_splits,verbose=False)
        estimate = tree_estimate(regions,residual,day_2015,hour_2015)
        boosting_estimate += boosting_constant * estimate
        
        for ind in range(n):
#             if ind < 10:
#                 print("Old residual",residual[ind])
#                 print("Hour",hour_2015[ind])
#                 print("Day",day_2015[ind])
#                 print("Estimate",estimate[hour_2015[ind],day_2015[ind]-1])
            residual[ind] = residual[ind] - boosting_constant * estimate[hour_2015[ind],day_2015[ind]-1]
#             if ind < 10:
#                 print("New residual",residual[ind])
                
        error_2015_boosting[ind_constant,iteration] = compute_error(boosting_estimate, temperature_2015,
                                                                    day_2015,hour_2015)
        error_2016_boosting[ind_constant,iteration] = compute_error(boosting_estimate, temperature_2016,
                                                                    day_2016,hour_2016)
        if iteration in plot_inds:
            plot_trees_boosting[ind_constant].append(np.copy(estimate))
            plot_boosting[ind_constant].append(np.copy(boosting_estimate))


plt.figure(figsize = figsize) 
im = plt.imshow(boosting_estimate, cmap='gray', vmin=min_mean_temp, vmax=max_mean_temp,
                origin='lower', aspect='auto')
#     cbar = plt.colorbar(im)
#     cbar.ax.tick_params(labelsize=font_size_ticks,pad = 20)
#     cbar.set_label(label='Temperature (°C)',fontsize=font_size,labelpad = 20)
plt.xticks(fontsize=font_size_ticks)
plt.yticks(fontsize=font_size_ticks) 
plt.xlabel('Day of the year',fontsize=font_size,labelpad = 10)
plt.ylabel('Hour of the day',fontsize=font_size,labelpad = 15)
#    plt.savefig('plots/tree_temp_'+save_str+'.pdf',bbox_inches="tight")


vmax = -1
vmin = 1e6

for ind_constant,boosting_constant in enumerate(boosting_constant_vals):
    for ind in range(len(plot_inds)):
        max_trees_boosting = np.max(plot_trees_boosting[ind_constant][ind])
        min_trees_boosting = np.min(plot_trees_boosting[ind_constant][ind])
        if vmax < max_trees_boosting:
            vmax = max_all
        if vmin > min_trees_boosting:
            vmin = min_all
print(vmax)
print(vmin)

for ind_constant,boosting_constant in enumerate(boosting_constant_vals):
    for ind in range(len(plot_inds)):
        plt.figure(figsize = figsize) 
        im = plt.imshow(plot_trees_boosting[ind_constant][ind], cmap='gray', vmin=vmin, vmax=vmax,
                        origin='lower', aspect='auto')
        #     cbar = plt.colorbar(im)
        #     cbar.ax.tick_params(labelsize=font_size_ticks,pad = 20)
        #     cbar.set_label(label='Temperature (°C)',fontsize=font_size,labelpad = 20)
        plt.xticks(fontsize=font_size_ticks)
        plt.yticks(fontsize=font_size_ticks) 
        plt.xlabel('Day of the year',fontsize=font_size,labelpad = 10)
        plt.ylabel('Hour of the day',fontsize=font_size,labelpad = 15)
        plt.savefig('plots/temp_boosting_tree_'+str(ind_constant)+'_'+str(plot_inds[ind])+'.pdf',bbox_inches="tight")

fig,ax = plt.subplots(figsize=(9,9))
cbar = plt.colorbar(im,ax=ax)
# cbar.ax.set_ylim(0, 1.0)
cbar.ax.tick_params(labelsize=font_size_ticks,pad = 20)
cbar.set_label(label='Temperature (°C)',fontsize=font_size,labelpad = 20)
ax.remove()
plt.savefig('plots/temp_boosting_tree_colorbar.pdf',bbox_inches="tight")



vmax = -1
vmin = 1e6

for ind_constant,boosting_constant in enumerate(boosting_constant_vals):
    for ind in range(len(plot_inds)):
        max_boosting = np.max(plot_boosting[ind_constant][ind])
        min_boosting = np.min(plot_boosting[ind_constant][ind])
        if vmax < max_boosting:
            vmax = max_all
        if vmin > min_boosting:
            vmin = min_all
print(vmax)
print(vmin)

for ind_constant,boosting_constant in enumerate(boosting_constant_vals):
    for ind in range(len(plot_inds)):
        print("Boosting constant",boosting_constant)
        print("Number of trees",plot_inds[ind]+1)
        print("Training error",error_2015_boosting[ind_constant,plot_inds[ind]])
        print("Test error",error_2016_boosting[ind_constant,plot_inds[ind]])
        
        plt.figure(figsize = figsize) 
        im = plt.imshow(plot_boosting[ind_constant][ind], cmap='gray', vmin=vmin, vmax=vmax,
                        origin='lower', aspect='auto')
        #     cbar = plt.colorbar(im)
        #     cbar.ax.tick_params(labelsize=font_size_ticks,pad = 20)
        #     cbar.set_label(label='Temperature (°C)',fontsize=font_size,labelpad = 20)
        plt.xticks(fontsize=font_size_ticks)
        plt.yticks(fontsize=font_size_ticks) 
        plt.xlabel('Day of the year',fontsize=font_size,labelpad = 10)
        plt.ylabel('Hour of the day',fontsize=font_size,labelpad = 15)
        plt.savefig('plots/temp_boosting_model_'+str(ind_constant)+'_'+str(plot_inds[ind])+'.pdf',bbox_inches="tight")

fig,ax = plt.subplots(figsize=(9,9))
cbar = plt.colorbar(im,ax=ax)
# cbar.ax.set_ylim(0, 1.0)
cbar.ax.tick_params(labelsize=font_size_ticks,pad = 20)
cbar.set_label(label='Temperature (°C)',fontsize=font_size,labelpad = 20)
ax.remove()
plt.savefig('plots/temp_boosting_colorbar.pdf',bbox_inches="tight")



msize=10
medgewidth=2
iterations = np.arange(1,n_iter+1)

for ind_constant,boosting_constant in enumerate(boosting_constant_vals):

    plt.figure(figsize=(18,18))
    plt.xticks(fontsize=font_size_ticks) 
    plt.yticks(fontsize=font_size_ticks)
    plt.plot(iterations,error_2015_boosting[ind_constant,:],color="black",markersize=msize, 
                     marker='o', markeredgewidth=medgewidth,ls = 'None',markeredgecolor="black",
                     label="Training")
    plt.plot(iterations,error_2016_boosting[ind_constant,:],color="white",markersize=msize, 
                     marker='o', markeredgewidth=medgewidth,ls = 'None',markeredgecolor="black",
                     label="Test")
    plt.grid()
    plt.title('Boosting constant: '+str(boosting_constant))
    plt.ylabel(r'Error ($^\circ$C)',fontsize=font_size,labelpad = 15)
    plt.xlabel(r'Number of trees in ensemble',fontsize=font_size,labelpad = 15)
    plt.legend(fontsize=font_size)
    # plt.savefig('plots/bagging_errors.pdf',bbox_inches="tight")




msize=12
medgewidth=2
n_trees = np.arange(1,n_iter+1)

plt.figure(figsize=(18,18))
plt.xticks(fontsize=fontsize_smaller) 
plt.yticks(fontsize=fontsize_smaller)
plt.xlim([0.5,n_iter+0.5])
plt.grid()
plt.ylabel(r'Error ($^\circ$C)',fontsize=fontsize_smaller,labelpad = 15)
plt.xlabel(r'Number of trees in ensemble',fontsize=fontsize_smaller,labelpad = 15)

plt.plot(n_trees,error_2016_random_forest,color="black",markersize=msize, 
                 marker='*',markeredgewidth=medgewidth, ls = 'None',markeredgecolor="black",
                 label="Random forest (test)")
plt.plot(n_trees,error_2016_boosting[1,:],color="black",markersize=msize, 
                     marker='d', markeredgewidth=medgewidth,ls = 'None',markeredgecolor="black",
                     label=r"Boosting $\eta = 0.1$ (test)")
plt.plot(n_trees,error_2016_boosting[0,:],color="black",markersize=msize, 
                     marker='^', markeredgewidth=medgewidth,ls = 'None',markeredgecolor="black",
                     label=r"Naive boosting (test)")
# plt.plot(n_bootstrap_inds,error_2016_bagging,color="black",markersize=msize, 
#                  marker='o',markeredgewidth=medgewidth, ls = 'None',markeredgecolor="black",
#                  label="Bagging (test)")
# plt.plot(n_bootstrap_inds,error_2015_bagging,color="white",markersize=msize, 
#                  marker='o', markeredgewidth=medgewidth,ls = 'None',markeredgecolor="black",
#                  label="Bagging (training)")
plt.plot(n_trees,error_2015_random_forest,color="white",markersize=msize, 
                 marker='*', markeredgewidth=medgewidth,ls = 'None',markeredgecolor="black",
                 label="Random forest (training)")
plt.plot(n_trees,error_2015_boosting[1,:],color="white",markersize=msize, 
                     marker='d', markeredgewidth=medgewidth,ls = 'None',markeredgecolor="black",
                     label=r"Boosting $\eta = 0.1$ (training)")
plt.plot(n_trees,error_2015_boosting[0,:],color="white",markersize=msize, 
                     marker='^', markeredgewidth=medgewidth,ls = 'None',markeredgecolor="black",
                     label=r"Naive boosting (training)")
plt.legend(fontsize=fontsize_smaller)
plt.savefig('plots/tree_ensemble_errors.pdf',bbox_inches="tight")







