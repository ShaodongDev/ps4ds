{
 "cells": [
  {
   "cell_type": "markdown",
   "id": "01b068c8-256a-46b8-95cd-a02457e91512",
   "metadata": {},
   "source": [
    "[Probability and Statistics for Data Science](https://www.ps4ds.net/) \n",
    "\n",
    "Code for Example 12.43\n",
    "\n",
    "Log-likelihood computation using a toy synthetic dataset for a simple classification tree with two leaves\\\n",
    "Topics: Classification tree, likelihood\n",
    "\n",
    "Author: Carlos Fernandez-Granda"
   ]
  },
  {
   "cell_type": "code",
   "execution_count": 2,
   "id": "f0a6d3db",
   "metadata": {},
   "outputs": [],
   "source": [
    "import numpy as np\n",
    "import math"
   ]
  },
  {
   "cell_type": "code",
   "execution_count": 6,
   "id": "24c3066e",
   "metadata": {},
   "outputs": [],
   "source": [
    "plus = np.array([[1,3],[1,3],[1,3],[2,2],[3,1]])\n",
    "total = np.array([[1,5],[2,4],[3,3],[4,2],[5,1]])\n",
    "minus = total - plus\n",
    "proportions_plus = plus/total\n",
    "proportions_minus = minus/total"
   ]
  },
  {
   "cell_type": "code",
   "execution_count": 5,
   "id": "10aadcb5",
   "metadata": {},
   "outputs": [
    {
     "name": "stdout",
     "output_type": "stream",
     "text": [
      "[-1.833 -1.386 -0.811 -1.386 -1.833]\n"
     ]
    }
   ],
   "source": [
    "n_splits = total.shape[0]\n",
    "loglikelihood = np.zeros(n_splits)\n",
    "for ind in range(n_splits):\n",
    "    loglikelihood[ind] = (plus[ind][0] * np.log(proportions_plus[ind][0]) \n",
    "                          + plus[ind][1] * np.log(proportions_plus[ind][1]))\n",
    "    if minus[ind][0] > 0:\n",
    "        loglikelihood[ind] = minus[ind][0] * np.log(proportions_minus[ind][0]) \n",
    "    if minus[ind][1] > 0:\n",
    "        loglikelihood[ind] = minus[ind][1] * np.log(proportions_minus[ind][1]) \n",
    "print(np.round(loglikelihood,3))    "
   ]
  }
 ],
 "metadata": {
  "kernelspec": {
   "display_name": "Python 3 (ipykernel)",
   "language": "python",
   "name": "python3"
  },
  "language_info": {
   "codemirror_mode": {
    "name": "ipython",
    "version": 3
   },
   "file_extension": ".py",
   "mimetype": "text/x-python",
   "name": "python",
   "nbconvert_exporter": "python",
   "pygments_lexer": "ipython3",
   "version": "3.9.20"
  }
 },
 "nbformat": 4,
 "nbformat_minor": 5
}
