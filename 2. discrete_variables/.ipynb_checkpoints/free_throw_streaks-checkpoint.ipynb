{
 "cells": [
  {
   "cell_type": "code",
   "execution_count": 8,
   "metadata": {},
   "outputs": [
    {
     "name": "stdout",
     "output_type": "stream",
     "text": [
      "First 10 free throws by Kevin Durant: \n",
      "[0 1 0 1 0 1 1 1 1 0]\n"
     ]
    }
   ],
   "source": [
    "import csv\n",
    "import numpy as np\n",
    "import matplotlib.pyplot as plt\n",
    "\n",
    "data_file = './data/free_throws.csv'\n",
    "\n",
    "def load_data(player):\n",
    "    free_throw_list = []\n",
    "    with open(data_file, newline='') as csvfile:\n",
    "        reader = csv.reader(csvfile, delimiter=',')\n",
    "         # print(reader.__next__())\n",
    "         # print(reader.__next__())\n",
    "        for row in reader:\n",
    "             if row[5] == player:\n",
    "                 # print(row)\n",
    "                 free_throw_list.append(int(row[9]))\n",
    "    free_throws = np.array(free_throw_list)\n",
    "    return free_throws\n",
    "\n",
    "durant_free_throws = load_data(\"Kevin Durant\")\n",
    "print('First 10 free throws by Kevin Durant: ')\n",
    "print(durant_free_throws[:10])"
   ]
  },
  {
   "cell_type": "code",
   "execution_count": null,
   "metadata": {},
   "outputs": [],
   "source": []
  }
 ],
 "metadata": {
  "kernelspec": {
   "display_name": "Python 3",
   "language": "python",
   "name": "python3"
  },
  "language_info": {
   "codemirror_mode": {
    "name": "ipython",
    "version": 3
   },
   "file_extension": ".py",
   "mimetype": "text/x-python",
   "name": "python",
   "nbconvert_exporter": "python",
   "pygments_lexer": "ipython3",
   "version": "3.7.4"
  }
 },
 "nbformat": 4,
 "nbformat_minor": 2
}
