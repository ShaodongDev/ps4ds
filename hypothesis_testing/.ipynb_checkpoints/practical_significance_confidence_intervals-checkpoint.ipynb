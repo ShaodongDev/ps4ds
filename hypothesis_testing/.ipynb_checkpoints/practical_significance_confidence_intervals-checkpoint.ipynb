{
 "cells": [
  {
   "cell_type": "markdown",
   "id": "62e279b3-618b-4261-a735-e0de0c3e56c8",
   "metadata": {},
   "source": [
    "[Probability and Statistics for Data Science](https://www.ps4ds.net/) \n",
    "\n",
    "Code for Example 10.36 and Figure 10.14 \n",
    "\n",
    "Analysis of practical significance for the COVID-19 vaccine randomized trials, website design in the Obama campaign, and two fictitious randomized trials. The confidence intervals are built following Definition 9.44 and Exercise 9.11\\\n",
    "Topics: statistical significance, practical significance, confidence intervals\n",
    "\n",
    "Author: Carlos Fernandez-Granda"
   ]
  },
  {
   "cell_type": "code",
   "execution_count": 13,
   "id": "f1b53bc2",
   "metadata": {},
   "outputs": [],
   "source": [
    "import matplotlib\n",
    "import matplotlib.pyplot as plt\n",
    "import numpy as np\n",
    "from scipy.stats import binom\n",
    "matplotlib.rcParams['text.usetex'] = True\n",
    "from scipy.stats import norm\n",
    "\n",
    "font_size = 15\n",
    "font_size_legend = 15\n",
    "font_size_ticks = 15\n",
    "\n",
    "x_min = -0.5\n",
    "x_max = 2.5\n",
    "\n",
    "l_width = 15\n",
    "msize = 35\n",
    "verbose = False"
   ]
  },
  {
   "cell_type": "code",
   "execution_count": 14,
   "id": "f1edf9bb",
   "metadata": {},
   "outputs": [
    {
     "data": {
      "text/plain": [
       "Text(0.5, 1.0, 'COVID-19 vaccine trial')"
      ]
     },
     "execution_count": 14,
     "metadata": {},
     "output_type": "execute_result"
    },
    {
     "data": {
      "image/png": "[encoded data removed]",
      "text/plain": [
       "<Figure size 400x300 with 1 Axes>"
      ]
     },
     "metadata": {},
     "output_type": "display_data"
    }
   ],
   "source": [
    "# COVID-19 vaccine clinical trials\n",
    "# Data source: https://www.nejm.org/doi/full/10.1056/NEJMoa2034577\n",
    "n_control = 21728\n",
    "n_vaccine = 21720\n",
    "\n",
    "cases_control = 162\n",
    "cases_vaccine = 8\n",
    "\n",
    "percentage_control = cases_control/n_control\n",
    "percentage_vaccine = cases_vaccine/n_vaccine\n",
    "\n",
    "var_control = percentage_control * (1-percentage_control) / n_control\n",
    "var_vaccine = percentage_vaccine * (1-percentage_vaccine) / n_vaccine\n",
    "var_difference = var_control + var_vaccine\n",
    "percentage_difference = percentage_control - percentage_vaccine\n",
    "Phi_inv = 1.96 # Inverse cdf of 1-0.05/2\n",
    "half_width_diff = np.sqrt(var_difference) * Phi_inv\n",
    "half_width_control = np.sqrt(var_control) * Phi_inv\n",
    "half_width_vaccine = np.sqrt(var_vaccine) * Phi_inv\n",
    "l_diff = percentage_difference - half_width_diff\n",
    "u_diff = percentage_difference + half_width_diff\n",
    "l_control = percentage_control - half_width_control\n",
    "u_control = percentage_control + half_width_control\n",
    "l_vaccine = percentage_vaccine - half_width_vaccine\n",
    "u_vaccine = percentage_vaccine + half_width_vaccine\n",
    "\n",
    "theta_null = (cases_control+cases_vaccine)/ (n_control+n_vaccine)\n",
    "\n",
    "var_null = theta_null * (1-theta_null) * (1./n_vaccine + 1./n_vaccine)\n",
    "std_null = np.sqrt(var_null)\n",
    "\n",
    "statistic = (percentage_control - percentage_vaccine)\n",
    "\n",
    "if verbose:\n",
    "    print(\"Pooled estimate of parameter under null hypothesis\",theta_null)\n",
    "    print(\"Variance estimate under null hypothesis\",var_null)\n",
    "    print(\"Percentage control group\",percentage_control)\n",
    "    print(\"Percentage vaccine group\",percentage_vaccine)\n",
    "    print(\"Test statistic\",statistic)\n",
    "    print(statistic/std_null)\n",
    "    \n",
    "    print(\"Variance control\",np.round(var_control,3))\n",
    "    print(\"Variance vaccine\",var_vaccine)\n",
    "    print(\"Interval difference: [\",l_diff,\",\",u_diff,\"]\")\n",
    "    print(\"Interval control: [\",l_control,\",\",u_control,\"]\")\n",
    "    print(\"Interval vaccine: [\",l_vaccine,\",\",u_vaccine,\"]\")\n",
    "\n",
    "plt.figure(figsize=(4,3))\n",
    "plt.xticks([0,1,2],[\"Control\",\"Vaccine\",\"Difference\"],fontsize=font_size_ticks)\n",
    "plt.yticks(fontsize=font_size_ticks) \n",
    "plt.xlim(x_min,x_max)\n",
    "plt.ylim(0,0.01)\n",
    "plt.ylabel(r\"Percentage of positive cases\",fontsize=font_size,labelpad=5)\n",
    "plt.vlines(0,l_control,u_control,lw=l_width,color=\"black\")\n",
    "plt.vlines(1,l_vaccine,u_vaccine,lw=l_width,color=\"black\")\n",
    "plt.vlines(2,l_diff,u_diff,lw=l_width,color=\"black\")\n",
    "plt.grid(True)\n",
    "plt.title(r\"COVID-19 vaccine trial\",fontsize=font_size)"
   ]
  },
  {
   "cell_type": "code",
   "execution_count": 15,
   "id": "f4a67a88",
   "metadata": {},
   "outputs": [
    {
     "data": {
      "text/plain": [
       "Text(0.5, 1.0, 'Obama campaign')"
      ]
     },
     "execution_count": 15,
     "metadata": {},
     "output_type": "execute_result"
    },
    {
     "data": {
      "image/png": "[encoded data removed]",
      "text/plain": [
       "<Figure size 400x300 with 1 Axes>"
      ]
     },
     "metadata": {},
     "output_type": "display_data"
    }
   ],
   "source": [
    "# Website design in the Obama campaign\n",
    "# Data source: https://www.optimizely.com/insights/blog/how-obama-raised-60-million-by-running-a-simple-experiment/\n",
    "n_images = 51794 + 51696 + 51790\n",
    "n_videos = 51427 + 51864 + 51811\n",
    "\n",
    "signup_images = 4425 + 4996 + 4595\n",
    "signup_videos = 3992 + 3261 + 3084\n",
    "\n",
    "percentage_images = signup_images/n_images\n",
    "percentage_videos = signup_videos/n_videos\n",
    "\n",
    "var_images = percentage_images * (1-percentage_images) / n_images\n",
    "var_videos = percentage_videos * (1-percentage_videos) / n_videos\n",
    "var_difference = var_images + var_videos\n",
    "percentage_difference = percentage_images - percentage_videos\n",
    "Phi_inv = 1.96 # Inverse cdf of 1-0.05/2\n",
    "half_width_diff = np.sqrt(var_difference) * Phi_inv\n",
    "half_width_images = np.sqrt(var_images) * Phi_inv # 0.5* Phi_inv /np.sqrt(n_images) #\n",
    "half_width_videos = np.sqrt(var_videos) * Phi_inv # 0.5* Phi_inv /np.sqrt(n_videos) #\n",
    "l_diff = percentage_difference - half_width_diff\n",
    "u_diff = percentage_difference + half_width_diff\n",
    "l_images = percentage_images - half_width_images\n",
    "u_images = percentage_images + half_width_images\n",
    "l_videos = percentage_videos - half_width_videos\n",
    "u_videos = percentage_videos + half_width_videos\n",
    "\n",
    "if verbose:\n",
    "    print(\"Variance images\",np.round(var_images,3))\n",
    "    print(\"Variance videos\",var_videos)\n",
    "    print(\"Interval difference: [\",l_diff,\",\",u_diff,\"]\")\n",
    "    print(\"Interval images: [\",l_images,\",\",u_images,\"]\")\n",
    "    print(\"Interval videos: [\",l_videos,\",\",u_videos,\"]\")\n",
    "\n",
    "plt.figure(figsize=(4,3))\n",
    "plt.xticks([0,1,2],[\"Images\",\"Videos\",\"Difference\"],fontsize=font_size_ticks)#, rotation='vertical') \n",
    "plt.yticks(fontsize=font_size_ticks) \n",
    "plt.xlim(x_min,x_max)\n",
    "plt.ylim(0,0.1)\n",
    "plt.ylabel(r\"Sign-up rate\",fontsize=font_size,labelpad=5)\n",
    "plt.vlines(0,l_images,u_images,lw=l_width,color=\"black\")\n",
    "plt.vlines(1,l_videos,u_videos,lw=l_width,color=\"black\")\n",
    "plt.vlines(2,l_diff,u_diff,lw=l_width,color=\"black\")\n",
    "plt.grid(True)\n",
    "plt.title(r\"Obama campaign\",fontsize=font_size)"
   ]
  },
  {
   "cell_type": "code",
   "execution_count": 23,
   "id": "794161ad",
   "metadata": {},
   "outputs": [
    {
     "data": {
      "image/png": "[encoded data removed]",
      "text/plain": [
       "<Figure size 400x300 with 1 Axes>"
      ]
     },
     "metadata": {},
     "output_type": "display_data"
    }
   ],
   "source": [
    "# Fictitious trial 1, which is very large, so that very small differences become statistically significant\n",
    "n_1 = 100000\n",
    "n_2 = 100000\n",
    "\n",
    "x_1 = 30000\n",
    "x_2 = 30650\n",
    "\n",
    "theta_null = (x_1 + x_2)/ (n_1+n_2)\n",
    "\n",
    "var = theta_null * (1-theta_null) * (1./n_1 + 1./n_2)\n",
    "std_null = np.sqrt(var)\n",
    "\n",
    "statistic = (x_2/n_2 - x_1/n_1)\n",
    "\n",
    "p_value = 1-norm.cdf(statistic/std_null)\n",
    "\n",
    "if verbose:\n",
    "    print(\"Test statistic:\",statistic)\n",
    "    print(\"Standard deviation under null hypothesis:\",std_null)\n",
    "    print(\"P value:\",p_value)\n",
    "\n",
    "Phi_inv = 1.96 # Inverse cdf of 1-0.05/2\n",
    "\n",
    "theta_est_1 = x_1/n_1\n",
    "sample_std_1 = np.sqrt(theta_est_1*(1-theta_est_1))\n",
    "\n",
    "half_width_1 = 0.5 * Phi_inv / np.sqrt(n_1)\n",
    "l_1 = theta_est_1 - half_width_1\n",
    "u_1 = theta_est_1 + half_width_1\n",
    "\n",
    "theta_est_2 = x_2/n_2\n",
    "sample_std_2 =  np.sqrt(theta_est_2*(1-theta_est_2))\n",
    "\n",
    "half_width_2 = 0.5 * Phi_inv / np.sqrt(n_2)\n",
    "l_2 = theta_est_2 - half_width_2\n",
    "u_2 = theta_est_2 + half_width_2\n",
    "\n",
    "std_diff = np.sqrt(theta_est_1*(1-theta_est_1)/n_1 + theta_est_2*(1-theta_est_2)/n_2)\n",
    "half_width_diff = std_diff * Phi_inv\n",
    "l_diff = theta_est_2-theta_est_1 - half_width_diff\n",
    "u_diff = theta_est_2-theta_est_1 + half_width_diff\n",
    "\n",
    "plt.figure(figsize=(4,3))\n",
    "plt.xticks([0,1,2],[\"Control\\n 30,000/100,000\",\"Treatment\\n 30,650/100,000\",\"Difference\\n 650/100,000\"],fontsize=font_size_ticks-5)#, rotation='vertical') \n",
    "plt.yticks(fontsize=font_size_ticks) \n",
    "plt.xlim(x_min,x_max)\n",
    "plt.ylim(0,1)\n",
    "plt.ylabel(r\"Cure rate\",fontsize=font_size,labelpad=5)\n",
    "plt.vlines(0,l_1,u_1,lw=l_width,color=\"black\")\n",
    "plt.vlines(1,l_2,u_2,lw=l_width,color=\"black\")\n",
    "plt.vlines(2,l_diff,u_diff,lw=l_width,color=\"black\")\n",
    "plt.grid(True)\n",
    "plt.title(r\"Fictitious trial 1: p value \" + str(round(p_value,5)),fontsize=font_size)\n",
    "if verbose:\n",
    "    print(\"Control: [\",np.round(l_1,4),np.round(u_1,4),\"]\")\n",
    "    print(\"Treatment: [\",np.round(l_2,4),np.round(u_2,4),\"]\")\n",
    "    print(\"Difference: [\",np.round(l_diff,5),np.round(u_diff,5),\"]\")\n"
   ]
  },
  {
   "cell_type": "code",
   "execution_count": 24,
   "id": "bb171001",
   "metadata": {},
   "outputs": [
    {
     "data": {
      "image/png": "[encoded data removed]",
      "text/plain": [
       "<Figure size 400x300 with 1 Axes>"
      ]
     },
     "metadata": {},
     "output_type": "display_data"
    }
   ],
   "source": [
    "# Fictitious trial 2, which is smaller, so that only larger differences are statistically significant\n",
    "n_1 = 100\n",
    "n_2 = 100\n",
    "\n",
    "x_1 = 30\n",
    "x_2 = 52\n",
    "\n",
    "theta_null = (x_1 + x_2)/ (n_1+n_2)\n",
    "\n",
    "var = theta_null * (1-theta_null) * (1./n_1 + 1./n_2)\n",
    "std_null = np.sqrt(var)\n",
    "\n",
    "statistic = (x_2/n_2 - x_1/n_1)\n",
    "\n",
    "p_value = 1-norm.cdf(statistic/std_null)\n",
    "\n",
    "if verbose:\n",
    "    print(\"Test statistic:\",statistic)\n",
    "    print(\"Standard deviation under null hypothesis:\",std_null)\n",
    "    print(\"P value:\",p_value)\n",
    "\n",
    "Phi_inv = 1.96 # Inverse cdf of 1-0.05/2\n",
    "\n",
    "theta_est_1 = x_1/n_1\n",
    "sample_std_1 = np.sqrt(theta_est_1*(1-theta_est_1))\n",
    "\n",
    "half_width_1 = 0.5 * Phi_inv / np.sqrt(n_1)\n",
    "l_1 = theta_est_1 - half_width_1\n",
    "u_1 = theta_est_1 + half_width_1\n",
    "\n",
    "theta_est_2 = x_2/n_2\n",
    "sample_std_2 = np.sqrt(theta_est_2*(1-theta_est_2))\n",
    "\n",
    "half_width_2 = 0.5 * Phi_inv / np.sqrt(n_2)\n",
    "l_2 = theta_est_2 - half_width_2\n",
    "u_2 = theta_est_2 + half_width_2\n",
    "\n",
    "std_diff = np.sqrt(theta_est_1*(1-theta_est_1)/n_1 + theta_est_2*(1-theta_est_2)/n_2)\n",
    "half_width_diff = std_diff * Phi_inv\n",
    "l_diff = theta_est_2-theta_est_1 - half_width_diff\n",
    "u_diff = theta_est_2-theta_est_1 + half_width_diff\n",
    "\n",
    "plt.figure(figsize=(4,3))\n",
    "plt.xticks([0,1,2],[\"Control\\n 30/100\",\"Treatment\\n 52/100\",\"Difference\\n 22/100\"],fontsize=font_size_ticks-5)#, rotation='vertical') \n",
    "plt.yticks(fontsize=font_size_ticks) \n",
    "plt.xlim(x_min,x_max)\n",
    "plt.ylim(0,1)\n",
    "plt.ylabel(r\"Cure rate\",fontsize=font_size,labelpad=5)\n",
    "plt.vlines(0,l_1,u_1,lw=l_width,color=\"black\")\n",
    "plt.vlines(1,l_2,u_2,lw=l_width,color=\"black\")\n",
    "plt.vlines(2,l_diff,u_diff,lw=l_width,color=\"black\")\n",
    "plt.grid(True)\n",
    "plt.title(r\"Fictitious trial 2: p value \" + str(round(p_value,5)),fontsize=font_size)\n",
    "if verbose:\n",
    "    print(\"Control: [\",np.round(l_1,4),np.round(u_1,4),\"]\")\n",
    "    print(\"Treatment: [\",np.round(l_2,4),np.round(u_2,4),\"]\")\n",
    "    print(\"Difference: [\",np.round(l_diff,5),np.round(u_diff,5),\"]\")"
   ]
  }
 ],
 "metadata": {
  "kernelspec": {
   "display_name": "Python 3 (ipykernel)",
   "language": "python",
   "name": "python3"
  },
  "language_info": {
   "codemirror_mode": {
    "name": "ipython",
    "version": 3
   },
   "file_extension": ".py",
   "mimetype": "text/x-python",
   "name": "python",
   "nbconvert_exporter": "python",
   "pygments_lexer": "ipython3",
   "version": "3.11.9"
  }
 },
 "nbformat": 4,
 "nbformat_minor": 5
}
