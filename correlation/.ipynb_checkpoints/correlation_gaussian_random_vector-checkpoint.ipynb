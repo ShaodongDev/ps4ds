{
 "cells": [
  {
   "cell_type": "code",
   "execution_count": null,
   "metadata": {},
   "outputs": [],
   "source": [
    "import os.path\n",
    "import math\n",
    "os.environ[\"PATH\"] += os.pathsep + '/usr/local/texlive/2019/bin/x86_64-darwin'\n",
    "print(os.getenv(\"PATH\"))\n",
    "import numpy as np\n",
    "import matplotlib.pyplot as plt\n",
    "import matplotlib\n",
    "matplotlib.rcParams['text.usetex'] = True\n",
    "\n",
    "font_size = 30\n",
    "font_size_ticks = 25\n",
    "\n",
    "xmin = -3\n",
    "xmax = 3\n",
    "ymin = -3\n",
    "ymax = 3\n",
    "x = np.linspace(xmin, xmax, 200)\n",
    "y = np.linspace(ymin, ymax,200)\n",
    "\n",
    "def gaussian(x,y,rho):\n",
    "    return (np.exp(-( x**2 - 2*rho*x*y + y**2)/2/(1-rho**2))\n",
    "                  /(2 * np.pi * np.sqrt(1-rho**2)))\n",
    "\n",
    "X, Y = np.meshgrid(x, y)\n",
    "\n",
    "rho_vals = [-0.9,-0.5,0,0.5,0.9]\n",
    "level_list = [1e-30,1e-20,1e-10,1e-7,1e-4,1e-2,1e-1,0.25]\n",
    "cond_val = 1.0\n",
    "f_max = 0.39\n",
    "\n",
    "for ind,rho in enumerate(rho_vals):\n",
    "    \n",
    "    Z = gaussian(X, Y,rho)\n",
    "\n",
    "    fig = plt.figure(figsize = (9,9)) \n",
    "    CS = plt.contour(X, Y, Z, levels = level_list,colors='gray')\n",
    "    fmt = {}\n",
    "    strs = [r'$10^{-30}$',r'$10^{-20}$',r'$10^{-10}$',r'$10^{-7}$',r'$10^{-4}$',r'$10^{-2}$',r'$10^{-1}$','0.25']\n",
    "    for l, s in zip(CS.levels, strs):\n",
    "        fmt[l] = s\n",
    "    plt.clabel(CS, fontsize=font_size, inline=1,fmt=fmt)\n",
    "    plt.xticks(fontsize=font_size_ticks) \n",
    "    plt.yticks(fontsize=font_size_ticks)\n",
    "    plt.vlines(cond_val,ymin,ymax,lw=3,ls=\"dashed\")\n",
    "    plt.xlabel(\"a\", fontsize=font_size,labelpad=10)\n",
    "    h = plt.ylabel(\"b\", fontsize=font_size,labelpad=15)\n",
    "    h.set_rotation(0)\n",
    "    plt.ylim([ymin,ymax])\n",
    "    plt.xlim([xmin,xmax])\n",
    "    #plt.gcf().subplots_adjust(bottom=0.15)\n",
    "    #plt.gcf().subplots_adjust(left=0.18)\n",
    "    plt.savefig('plots/gaussian_correlation_contours_'+str(ind)+'.pdf',bbox_inches=\"tight\")\n",
    "    plt.show()\n"
   ]
  }
 ],
 "metadata": {
  "kernelspec": {
   "display_name": "Python 3",
   "language": "python",
   "name": "python3"
  },
  "language_info": {
   "codemirror_mode": {
    "name": "ipython",
    "version": 3
   },
   "file_extension": ".py",
   "mimetype": "text/x-python",
   "name": "python",
   "nbconvert_exporter": "python",
   "pygments_lexer": "ipython3",
   "version": "3.7.4"
  }
 },
 "nbformat": 4,
 "nbformat_minor": 2
}
