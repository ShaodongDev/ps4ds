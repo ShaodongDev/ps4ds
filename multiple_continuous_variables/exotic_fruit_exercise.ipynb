{
 "cells": [
  {
   "cell_type": "markdown",
   "id": "22543882-bf09-4148-bfa1-99bab036249e",
   "metadata": {},
   "source": [
    "[Probability and Statistics for Data Science](https://www.ps4ds.net/) \n",
    "\n",
    "Code for Exercise 5.14\n",
    "\n",
    "Topics: Gaussian random vectors\n",
    "\n",
    "Author: Carlos Fernandez-Granda"
   ]
  },
  {
   "cell_type": "code",
   "execution_count": 1,
   "id": "bb7254f6",
   "metadata": {},
   "outputs": [],
   "source": [
    "import numpy as np\n",
    "import matplotlib.pyplot as plt\n",
    "np.set_printoptions(precision=2,suppress=True)\n",
    "import numpy.linalg as linalg"
   ]
  },
  {
   "cell_type": "code",
   "execution_count": 2,
   "id": "8e3ee736",
   "metadata": {},
   "outputs": [
    {
     "name": "stdout",
     "output_type": "stream",
     "text": [
      "Mean [ 1.53 18.5  10.6  98.6  16.3 ]\n",
      "Covariance matrix parameter [[  0.51  -1.61   1.45  -7.89   3.97]\n",
      " [ -1.61   7.05  -3.9    0.6  -12.25]\n",
      " [  1.45  -3.9    9.44 -52.46  12.62]\n",
      " [ -7.89   0.6  -52.46 616.84 -90.18]\n",
      " [  3.97 -12.25  12.62 -90.18  39.01]]\n"
     ]
    }
   ],
   "source": [
    "data = np.array([\n",
    "    [1.5,2.3,0.8,1.2,2.0,1.2,0.7,2.7,2.3,0.6],\n",
    "    [20,15,18,19,17,22,21,14,17,22],\n",
    "    [8,12,6,10,17,12,9,14,10,8],\n",
    "    [110,94,152,123,78,60,111,83,85,90],\n",
    "    [12,21,9,14,19,15,7,29,22,15]\n",
    "])\n",
    "\n",
    "mu = np.mean(data,axis=1)\n",
    "print(\"Mean\",mu)\n",
    "\n",
    "Sigma = np.cov(data,bias=True)\n",
    "print(\"Covariance matrix parameter\",Sigma)"
   ]
  },
  {
   "cell_type": "code",
   "execution_count": 3,
   "id": "4653873e",
   "metadata": {},
   "outputs": [
    {
     "name": "stdout",
     "output_type": "stream",
     "text": [
      "1.7654015973964683\n",
      "0.03747546420415904\n"
     ]
    }
   ],
   "source": [
    "mu_fruit = mu[0]\n",
    "mu_rest = mu[1:]\n",
    "Sigma_fruit = Sigma[0,0]\n",
    "Sigma_rest = Sigma[1:,1:]\n",
    "Sigma_fruit_rest = Sigma[1:,0]\n",
    "\n",
    "rest = np.array([15,20,120,8])\n",
    "\n",
    "mu_cond = mu_fruit + Sigma_fruit_rest.T @ linalg.inv(Sigma_rest) @ (rest - mu_rest)\n",
    "Sigma_cond = Sigma_fruit - Sigma_fruit_rest.T @ linalg.inv(Sigma_rest) @ Sigma_fruit_rest\n",
    "\n",
    "print(mu_cond)\n",
    "print(Sigma_cond)"
   ]
  }
 ],
 "metadata": {
  "kernelspec": {
   "display_name": "Python 3 (ipykernel)",
   "language": "python",
   "name": "python3"
  },
  "language_info": {
   "codemirror_mode": {
    "name": "ipython",
    "version": 3
   },
   "file_extension": ".py",
   "mimetype": "text/x-python",
   "name": "python",
   "nbconvert_exporter": "python",
   "pygments_lexer": "ipython3",
   "version": "3.11.9"
  }
 },
 "nbformat": 4,
 "nbformat_minor": 5
}
