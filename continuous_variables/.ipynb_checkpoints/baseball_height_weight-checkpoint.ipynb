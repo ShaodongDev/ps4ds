{
 "cells": [
  {
   "cell_type": "code",
   "execution_count": 12,
   "metadata": {},
   "outputs": [
    {
     "name": "stdout",
     "output_type": "stream",
     "text": [
      "Index(['Name', 'Team', 'Position', 'Height(inches)', 'Weight(pounds)', 'Age'], dtype='object')\n",
      "0    74\n",
      "1    74\n",
      "2    72\n",
      "3    72\n",
      "4    73\n",
      "Name: Height(inches), dtype: int64\n",
      "0    180.0\n",
      "1    215.0\n",
      "2    210.0\n",
      "3    210.0\n",
      "4    188.0\n",
      "Name: Weight(pounds), dtype: float64\n"
     ]
    }
   ],
   "source": [
    "import pandas as pd\n",
    "import numpy as np\n",
    "import matplotlib.pyplot as plt\n",
    "import seaborn as sns\n",
    "\n",
    "data = pd.read_csv (\"./data/baseball_height_weight.txt\", delim_whitespace = True)\n",
    "print(data.columns)\n",
    "n = len(data)\n",
    "n_train = 2 * n / 5\n",
    "n_val = n / 5  \n",
    "n_test = 2 * n / 5\n",
    "\n",
    "heights = {}\n",
    "heights_aux = data[\"Height(inches)\"]\n",
    "heights[\"train\"] = heights_aux[:n_train]\n",
    "heights[\"val\"] = heights_aux[:n_train]\n",
    "heights[\"test\"] = heights_aux[:n_train]\n",
    "weights = data[\"Weight(pounds)\"]\n",
    "\n",
    "print(heights[:5])\n",
    "print(weights[:5])"
   ]
  },
  {
   "cell_type": "code",
   "execution_count": null,
   "metadata": {},
   "outputs": [],
   "source": []
  }
 ],
 "metadata": {
  "language_info": {
   "codemirror_mode": {
    "name": "ipython",
    "version": 3
   },
   "file_extension": ".py",
   "mimetype": "text/x-python",
   "name": "python",
   "nbconvert_exporter": "python",
   "pygments_lexer": "ipython3",
   "version": "3.7.4"
  }
 },
 "nbformat": 4,
 "nbformat_minor": 2
}
