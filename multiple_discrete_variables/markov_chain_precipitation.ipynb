{
 "cells": [
  {
   "cell_type": "markdown",
   "metadata": {},
   "source": [
    "[Probability and Statistics for Data Science](https://www.ps4ds.net/) \n",
    "\n",
    "Code for Examples 4.34 and 4.41\n",
    "\n",
    "Analysis of hourly precipitation data from 2015 and 2016 in Corvallis, Oregon, using Markov chains\\\n",
    "Topics: Markov chains, stationarity\n",
    "\n",
    "Author: Carlos Fernandez-Granda\\\n",
    "Data source: https://www1.ncdc.noaa.gov/pub/data/uscrn/products/"
   ]
  },
  {
   "cell_type": "code",
   "execution_count": 56,
   "metadata": {},
   "outputs": [],
   "source": [
    "import matplotlib.pyplot as plt\n",
    "import numpy as np\n",
    "from scipy import stats\n",
    "from numpy import linalg as LA\n",
    "\n",
    "font_size = 20\n",
    "font_size_ticks = 15\n",
    "\n",
    "np.set_printoptions(precision=3)\n",
    "\n",
    "def process_name(x):\n",
    "    x = x[14:]\n",
    "    x = x[:-7]\n",
    "    x = x.translate(str.maketrans('','','_1234567890'))\n",
    "    return x[2:] + \", \" + x[:2]\n",
    "\n",
    "file_name_precipitation_2015 = \"../data/weather/precipitation_2015.npy\"\n",
    "file_name_precipitation_2016 = \"../data/weather/precipitation_2016.npy\"\n",
    "\n",
    "precipitation_matrix_2015 = np.load(file_name_precipitation_2015)\n",
    "precipitation_matrix_2016 = np.load(file_name_precipitation_2016)\n",
    "\n",
    "file_name_list = np.load('../data/weather/weather_station_names.npy')"
   ]
  },
  {
   "cell_type": "code",
   "execution_count": 57,
   "metadata": {},
   "outputs": [
    {
     "name": "stdout",
     "output_type": "stream",
     "text": [
      "Corvallis, OR\n"
     ]
    }
   ],
   "source": [
    "station = 99\n",
    "print(process_name(file_name_list[station+1]))\n",
    "\n",
    "def remove_faulty_measurements(data,verbose):\n",
    "    min_val = -100 \n",
    "    median = np.median(data[data > min_val])\n",
    "    data[data < min_val] = median\n",
    "    return data\n",
    "\n",
    "# We encode precipitation as 1 and no precipitation as 0\n",
    "precipitation_aux_2015 = remove_faulty_measurements(precipitation_matrix_2015[:,station],verbose)\n",
    "precipitation_2015 = np.zeros(len(precipitation_aux_2015))\n",
    "precipitation_2015[precipitation_aux_2015 > 0] = 1\n",
    "precipitation_aux_2016 = remove_faulty_measurements(precipitation_matrix_2016[:,station],verbose)\n",
    "precipitation_2016 = np.zeros(len(precipitation_aux_2016))\n",
    "precipitation_2016[precipitation_aux_2016 > 0] = 1"
   ]
  },
  {
   "cell_type": "code",
   "execution_count": 52,
   "metadata": {},
   "outputs": [
    {
     "data": {
      "text/plain": [
       "(-1.0, 2.0)"
      ]
     },
     "execution_count": 52,
     "metadata": {},
     "output_type": "execute_result"
    },
    {
     "data": {
      "image/png": "[encoded data removed]",
      "text/plain": [
       "<Figure size 1000x500 with 1 Axes>"
      ]
     },
     "metadata": {},
     "output_type": "display_data"
    }
   ],
   "source": [
    "plt.figure(figsize=(10,5))\n",
    "days_times_hours =24 * (31 + 28 +31+5) - 24\n",
    "xtick_labels = ['April 5', 'April 6','April 7','Apr 8','Apr 9','Apr 10','Apr 11']\n",
    "xtick_vals = days_times_hours + 24*np.arange(1,7+1,1) - 24\n",
    "vals = days_times_hours + np.arange(0,24*(1+1),1)\n",
    "plt.xticks(xtick_vals, xtick_labels,fontsize=font_size_ticks)\n",
    "plt.plot(vals,precipitation_2015[vals],\".\",ms=15,color=\"black\",lw=3,label=\"Second principal component\")\n",
    "plt.yticks([0,1],[\"No\",\"Yes\"],fontsize=font_size_ticks)\n",
    "plt.ylabel(\"Precipitation\",fontsize=font_size,labelpad=25)\n",
    "plt.ylim([-1,2])"
   ]
  },
  {
   "cell_type": "code",
   "execution_count": 53,
   "metadata": {},
   "outputs": [
    {
     "name": "stdout",
     "output_type": "stream",
     "text": [
      "Probability of precipitation in 2015: 0.113\n",
      "Transition matrix\n",
      "[[0.96  0.312]\n",
      " [0.04  0.688]]\n",
      "Two steps\n",
      "Transition matrix (no precipitation two hours before)\n",
      "[[0.971 0.494]\n",
      " [0.029 0.506]]\n",
      "Transition matrix (precipitation two hours before)\n",
      "[[0.706 0.23 ]\n",
      " [0.294 0.77 ]]\n"
     ]
    }
   ],
   "source": [
    "p_precipitation = np.sum(precipitation_2015) / len(precipitation_2015)\n",
    "print(\"Probability of precipitation in 2015: \"+str(round(p_precipitation,3)))\n",
    "\n",
    "count_matrix = np.zeros((2,2))\n",
    "for ind in range(len(precipitation_2015)-1):\n",
    "    count_matrix[int(precipitation_2015[ind+1]),int(precipitation_2015[ind])] += 1\n",
    "transition_matrix = count_matrix/count_matrix.sum(axis=0, keepdims=True)\n",
    "print(\"Transition matrix\")\n",
    "print(transition_matrix)\n",
    "\n",
    "count_matrix_2 = np.zeros((2,2,2))\n",
    "for ind in range(len(precipitation_2015)-2):\n",
    "    count_matrix_2[int(precipitation_2015[ind]),int(precipitation_2015[ind+2]),int(precipitation_2015[ind+1])] += 1\n",
    "transition_matrix_2 = count_matrix_2/count_matrix_2.sum(axis=1, keepdims=True)\n",
    "print(\"Two steps\")\n",
    "print(\"Transition matrix (no precipitation two hours before)\")\n",
    "print(transition_matrix_2[0,:,:])\n",
    "print(\"Transition matrix (precipitation two hours before)\")\n",
    "print(transition_matrix_2[1,:,:])\n"
   ]
  },
  {
   "cell_type": "code",
   "execution_count": 54,
   "metadata": {},
   "outputs": [
    {
     "name": "stdout",
     "output_type": "stream",
     "text": [
      "Confusion matrix for the iid model\n",
      "[[7328. 1455.]\n",
      " [   0.    0.]]\n",
      "Accuracy:  0.834\n",
      "Confusion matrix for the Markov chain model\n",
      "[[6774.  554.]\n",
      " [ 554.  901.]]\n",
      "Accuracy:  0.874\n"
     ]
    }
   ],
   "source": [
    "# Matrix containing the true/false positives and true/false positives for 2016, if we model the precipitation in 2015 as independent\n",
    "confusion_matrix_iid_model = np.zeros((2,2)) \n",
    "# Matrix containing the true/false positives and true/false positives for 2016, if we model the precipitation in 2015 as a time-homogeneous \n",
    "# Markov chain\n",
    "confusion_matrix_markov_model = np.zeros((2,2))\n",
    "\n",
    "# No precipitation is more likely than precipitation\n",
    "iid_estimate = 0 \n",
    "for ind in np.arange(1,len(precipitation_2016)):\n",
    "    confusion_matrix_iid_model[iid_estimate,int(precipitation_2016[ind])] += 1\n",
    "    # Precipitation is more likely after precipitation, and no precipitation is more likely after no precipitation\n",
    "    markov_model_estimate = int(precipitation_2016[ind-1]) \n",
    "    confusion_matrix_markov_model[markov_model_estimate,int(precipitation_2016[ind])] += 1\n",
    "\n",
    "print(\"Confusion matrix for the iid model\")\n",
    "print(confusion_matrix_iid_model)\n",
    "accuracy_iid = (confusion_matrix_iid_model[0][0] + confusion_matrix_iid_model[1][1])/np.sum(confusion_matrix_iid_model)\n",
    "print(\"Accuracy: \", round(accuracy_iid,3))\n",
    "\n",
    "print(\"Confusion matrix for the Markov chain model\")\n",
    "print(confusion_matrix_markov_model)\n",
    "accuracy_markov = (confusion_matrix_markov_model[0][0] + confusion_matrix_markov_model[1][1])/np.sum(confusion_matrix_markov_model)\n",
    "print(\"Accuracy: \", round(accuracy_markov,3))"
   ]
  },
  {
   "cell_type": "code",
   "execution_count": 55,
   "metadata": {},
   "outputs": [
    {
     "name": "stdout",
     "output_type": "stream",
     "text": [
      "Eigenvalues of the transition matrix [1.    0.648]\n",
      "Q\n",
      "[[ 0.887 -0.632]\n",
      " [ 0.113  0.632]]\n",
      "Qinv\n",
      "[[ 1.     1.   ]\n",
      " [-0.179  1.403]]\n",
      "Stationary distribution corresponding to eigenvalue 1\n",
      "[0.887 0.113]\n",
      "Result of applying the transition matrix to the stationary distribution\n",
      "[0.887 0.113]\n"
     ]
    }
   ],
   "source": [
    "eigenvalues, eigenvectors = LA.eig(transition_matrix)\n",
    "\n",
    "print(\"Eigenvalues of the transition matrix\",eigenvalues)\n",
    "aux_sum = np.sum(eigenvectors[:,0])\n",
    "print(\"Q\")\n",
    "Q = eigenvectors/aux_sum\n",
    "print(Q)\n",
    "print(\"Qinv\")\n",
    "print(LA.inv(Q))\n",
    "print(\"Stationary distribution corresponding to eigenvalue 1\")\n",
    "print(Q[:,0])\n",
    "print(\"Result of applying the transition matrix to the stationary distribution\")\n",
    "print(transition_matrix @ Q[:,0])"
   ]
  }
 ],
 "metadata": {
  "kernelspec": {
   "display_name": "Python 3 (ipykernel)",
   "language": "python",
   "name": "python3"
  },
  "language_info": {
   "codemirror_mode": {
    "name": "ipython",
    "version": 3
   },
   "file_extension": ".py",
   "mimetype": "text/x-python",
   "name": "python",
   "nbconvert_exporter": "python",
   "pygments_lexer": "ipython3",
   "version": "3.11.9"
  }
 },
 "nbformat": 4,
 "nbformat_minor": 4
}
