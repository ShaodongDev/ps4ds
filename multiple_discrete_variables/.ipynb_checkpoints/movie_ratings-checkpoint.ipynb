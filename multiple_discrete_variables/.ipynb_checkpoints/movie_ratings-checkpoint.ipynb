{
 "cells": [
  {
   "cell_type": "code",
   "execution_count": 95,
   "metadata": {
    "scrolled": true
   },
   "outputs": [
    {
     "name": "stdout",
     "output_type": "stream",
     "text": [
      "Index(['movie_id', 'title', 'release_date', 'user_id', 'rating', 'timestamp'], dtype='object')\n",
      "   movie_id             title release_date  user_id  rating  timestamp\n",
      "0         1  Toy Story (1995)  01-Jan-1995      308       4  887736532\n",
      "1         1  Toy Story (1995)  01-Jan-1995      287       5  875334088\n",
      "2         1  Toy Story (1995)  01-Jan-1995      148       4  877019411\n",
      "Star Wars (1977)                             583\n",
      "Contact (1997)                               509\n",
      "Fargo (1996)                                 508\n",
      "Return of the Jedi (1983)                    507\n",
      "Liar Liar (1997)                             485\n",
      "English Patient, The (1996)                  481\n",
      "Scream (1996)                                478\n",
      "Toy Story (1995)                             452\n",
      "Air Force One (1997)                         431\n",
      "Independence Day (ID4) (1996)                429\n",
      "Raiders of the Lost Ark (1981)               420\n",
      "Godfather, The (1972)                        413\n",
      "Pulp Fiction (1994)                          394\n",
      "Twelve Monkeys (1995)                        392\n",
      "Silence of the Lambs, The (1991)             390\n",
      "Jerry Maguire (1996)                         384\n",
      "Chasing Amy (1997)                           379\n",
      "Rock, The (1996)                             378\n",
      "Empire Strikes Back, The (1980)              367\n",
      "Star Trek: First Contact (1996)              365\n",
      "Back to the Future (1985)                    350\n",
      "Titanic (1997)                               350\n",
      "Mission: Impossible (1996)                   344\n",
      "Fugitive, The (1993)                         336\n",
      "Indiana Jones and the Last Crusade (1989)    331\n",
      "Name: title, dtype: int64\n"
     ]
    }
   ],
   "source": [
    "import pandas as pd\n",
    "import numpy as np\n",
    "import matplotlib.pyplot as plt\n",
    "rating_names = ['user_id', 'movie_id', 'rating', 'timestamp']\n",
    "ratings = pd.read_csv('data/ml-100k/u.data', sep='\\t', encoding='latin-1',names=rating_names)\n",
    "movie_names = ['movie_id', 'title', 'release_date']\n",
    "movies = pd.read_csv('data/ml-100k/u.item', sep='|', names=movie_names,usecols=range(3),\n",
    "                     encoding='latin-1')\n",
    "data = pd.merge(movies,ratings)\n",
    "print(data.columns)\n",
    "print(data.head(3))\n",
    "print(data.title.value_counts()[:25])"
   ]
  },
  {
   "cell_type": "code",
   "execution_count": 101,
   "metadata": {
    "scrolled": true
   },
   "outputs": [
    {
     "name": "stdout",
     "output_type": "stream",
     "text": [
      "[[ 2.  3.  5.  1.  0.]\n",
      " [ 3. 12. 18. 11.  5.]\n",
      " [ 5. 14. 37. 41. 17.]\n",
      " [ 6. 15. 20. 47. 19.]\n",
      " [ 0.  0.  4. 12. 17.]]\n",
      "Joint pmf of Mission: Impossible (1996) and Independence Day (ID4) (1996)\n",
      "[[0.0064 0.0096 0.0159 0.0032 0.    ]\n",
      " [0.0096 0.0382 0.0573 0.035  0.0159]\n",
      " [0.0159 0.0446 0.1178 0.1306 0.0541]\n",
      " [0.0191 0.0478 0.0637 0.1497 0.0605]\n",
      " [0.     0.     0.0127 0.0382 0.0541]]\n",
      "Marginal pmf of Mission: Impossible (1996)\n",
      "[0.035  0.1561 0.3631 0.3408 0.1051]\n",
      "Marginal pmf of Independence Day (ID4) (1996)\n",
      "[0.051  0.1401 0.2675 0.3567 0.1847]\n",
      "Conditional pmf of Independence Day (ID4) (1996) given rating for Mission: Impossible (1996) = 1\n",
      "[0.1818 0.2727 0.4545 0.0909 0.    ]\n",
      "Conditional pmf of Independence Day (ID4) (1996) given rating for Mission: Impossible (1996) = 2\n",
      "[0.0612 0.2449 0.3673 0.2245 0.102 ]\n",
      "Conditional pmf of Independence Day (ID4) (1996) given rating for Mission: Impossible (1996) = 3\n",
      "[0.0439 0.1228 0.3246 0.3596 0.1491]\n",
      "Conditional pmf of Independence Day (ID4) (1996) given rating for Mission: Impossible (1996) = 4\n",
      "[0.0561 0.1402 0.1869 0.4393 0.1776]\n",
      "Conditional pmf of Independence Day (ID4) (1996) given rating for Mission: Impossible (1996) = 5\n",
      "[0.     0.     0.1212 0.3636 0.5152]\n",
      "Conditional pmf of Mission: Impossible (1996) given rating for Independence Day (ID4) (1996) = 1\n",
      "[0.125  0.1875 0.3125 0.375  0.    ]\n",
      "Conditional pmf of Mission: Impossible (1996) given rating for Independence Day (ID4) (1996) = 2\n",
      "[0.0682 0.2727 0.3182 0.3409 0.    ]\n",
      "Conditional pmf of Mission: Impossible (1996) given rating for Independence Day (ID4) (1996) = 3\n",
      "[0.0595 0.2143 0.4405 0.2381 0.0476]\n",
      "Conditional pmf of Mission: Impossible (1996) given rating for Independence Day (ID4) (1996) = 4\n",
      "[0.0089 0.0982 0.3661 0.4196 0.1071]\n",
      "Conditional pmf of Mission: Impossible (1996) given rating for Independence Day (ID4) (1996) = 5\n",
      "[0.     0.0862 0.2931 0.3276 0.2931]\n"
     ]
    }
   ],
   "source": [
    "def joint_pmf(movie_1,movie_2,verbose):\n",
    "    ratings_1 = data[data[\"title\"] == movie_1]\n",
    "    ratings_2 = data[data[\"title\"] == movie_2]\n",
    "    if verbose:\n",
    "        print(ratings_1[:2])\n",
    "        print(ratings_2[:2])\n",
    "\n",
    "    counts = np.zeros((5,5))\n",
    "    total_counts = 0.0\n",
    "\n",
    "    for index, row in ratings_1.iterrows():\n",
    "        user_id = row['user_id']\n",
    "        aux_2 = ratings_2[ratings_2[\"user_id\"] == user_id]\n",
    "        if len(aux_2)==0:\n",
    "            if verbose:\n",
    "                print(\"no match\")\n",
    "        elif len(aux_2)>1:\n",
    "            if verbose:\n",
    "                print(\"more than one match\")\n",
    "        else:\n",
    "            rating_1 = row['rating']\n",
    "            rating_2 = aux_2['rating'].values[0]\n",
    "            if verbose:\n",
    "                print(\"rating 1 : \" + str(rating_1) + \" rating 2: \" + str(rating_2))\n",
    "            counts[rating_1-1,rating_2-1] += 1\n",
    "            total_counts += 1\n",
    "    joint_pmf = counts/total_counts\n",
    "    \n",
    "    if verbose:\n",
    "        print(counts)\n",
    "        print(joint_pmf)\n",
    "    \n",
    "    return counts, joint_pmf\n",
    "\n",
    "verbose = False\n",
    "movie_1 = 'Mission: Impossible (1996)'\n",
    "movie_2 = 'Independence Day (ID4) (1996)'\n",
    "counts, joint_pmf = joint_pmf(movie_1,movie_2,verbose)\n",
    "print(counts)\n",
    "np.set_printoptions(precision=4)\n",
    "print(\"Joint pmf of \" + movie_1 + ' and ' + movie_2)\n",
    "print(joint_pmf)\n",
    "\n",
    "marginal_pmf_1 = np.sum(joint_pmf,axis=1)\n",
    "print(\"Marginal pmf of \" + movie_1)\n",
    "print(marginal_pm_1))\n",
    "\n",
    "marginal_pmf_2 = np.sum(joint_pmf,axis=0)\n",
    "print(\"Marginal pmf of \" + movie_2)\n",
    "print(marginal_pmf_2))\n",
    "\n",
    "for rat in range(5):\n",
    "    print(\"Conditional pmf of \" + movie_2 + \" given rating for \" + movie_1 + \" = \" + str(rat+1))\n",
    "    print(joint_pmf[rat,:] / np.sum(joint_pmf[rat,:])) \n",
    "for rat in range(5):\n",
    "    print(\"Conditional pmf of \" + movie_1 + \" given rating for \" + movie_2 + \" = \" + str(rat+1))\n",
    "    print(joint_pmf[:,rat] / np.sum(joint_pmf[:,rat]) )"
   ]
  },
  {
   "cell_type": "code",
   "execution_count": null,
   "metadata": {},
   "outputs": [],
   "source": []
  },
  {
   "cell_type": "code",
   "execution_count": null,
   "metadata": {},
   "outputs": [],
   "source": []
  },
  {
   "cell_type": "code",
   "execution_count": null,
   "metadata": {},
   "outputs": [],
   "source": []
  }
 ],
 "metadata": {
  "kernelspec": {
   "display_name": "Python 3",
   "language": "python",
   "name": "python3"
  },
  "language_info": {
   "codemirror_mode": {
    "name": "ipython",
    "version": 3
   },
   "file_extension": ".py",
   "mimetype": "text/x-python",
   "name": "python",
   "nbconvert_exporter": "python",
   "pygments_lexer": "ipython3",
   "version": "3.7.4"
  }
 },
 "nbformat": 4,
 "nbformat_minor": 2
}
