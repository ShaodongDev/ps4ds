{
 "cells": [
  {
   "cell_type": "code",
   "execution_count": 1,
   "metadata": {},
   "outputs": [
    {
     "name": "stdout",
     "output_type": "stream",
     "text": [
      "(400, 4096)\n"
     ]
    }
   ],
   "source": [
    "import numpy as np\n",
    "from sklearn.datasets import fetch_olivetti_faces\n",
    "import matplotlib.pyplot as plt\n",
    "import matplotlib\n",
    "matplotlib.rcParams['text.usetex'] = True\n",
    "np.set_printoptions(precision=2)\n",
    "\n",
    "font_size = 30\n",
    "font_size_legend = 30\n",
    "font_size_ticks = 25\n",
    "font_size_graph = 30\n",
    "\n",
    "data = fetch_olivetti_faces()\n",
    "identities = data.target\n",
    "faces = data.images.reshape((len(data.images), -1))\n",
    "print(faces.shape)\n",
    "image_shape=(64,64)"
   ]
  },
  {
   "cell_type": "code",
   "execution_count": 2,
   "metadata": {},
   "outputs": [],
   "source": [
    "indices_test = np.arange(9,400,10)\n",
    "indices_train = np.setdiff1d(np.arange(0,400,1), indices_test, assume_unique=False)\n",
    "\n",
    "training_set = faces[indices_train,:]\n",
    "training_labels = identities[indices_train]\n",
    "test_set = faces[indices_train,:]\n",
    "test_labels = identities[indices_train]"
   ]
  },
  {
   "cell_type": "code",
   "execution_count": null,
   "metadata": {},
   "outputs": [],
   "source": [
    "mean_face = np.mean(training_set, axis=0)\n",
    "sample_covariance_matrix = np.cov(training_set.T)\n",
    "eigvals,U = np.linalg.eig(sample_covariance_matrix)\n",
    "U = U.astype(float)"
   ]
  },
  {
   "cell_type": "code",
   "execution_count": null,
   "metadata": {},
   "outputs": [],
   "source": []
  }
 ],
 "metadata": {
  "kernelspec": {
   "display_name": "Python 3",
   "language": "python",
   "name": "python3"
  },
  "language_info": {
   "codemirror_mode": {
    "name": "ipython",
    "version": 3
   },
   "file_extension": ".py",
   "mimetype": "text/x-python",
   "name": "python",
   "nbconvert_exporter": "python",
   "pygments_lexer": "ipython3",
   "version": "3.7.4"
  }
 },
 "nbformat": 4,
 "nbformat_minor": 2
}
