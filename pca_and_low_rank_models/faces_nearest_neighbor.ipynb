{
 "cells": [
  {
   "cell_type": "markdown",
   "metadata": {},
   "source": [
    "Material for the book [Probability and Statistics for Data Science](https://a.co/d/cAss9mO). A free preprint, videos, code, slides and solutions to exercises are available at https://www.ps4ds.net/\n",
    "\n",
    "Code for Example 11.30\n",
    "\n",
    "Face recognition via nearest neighbor using a low-dimensional representation obtained via principal component analysis\\\n",
    "Topics and relevant videos: [Principal component analysis](https://www.youtube.com/watch?v=hPM7F2CP9vQ), [dimensionality reduction, nearest neighbor](https://www.youtube.com/watch?v=ODMRtd3dj7s) \n",
    "\n",
    "Author: Carlos Fernandez-Granda"
   ]
  },
  {
   "cell_type": "code",
   "execution_count": 1,
   "metadata": {},
   "outputs": [],
   "source": [
    "import numpy as np\n",
    "from sklearn.datasets import fetch_olivetti_faces\n",
    "import matplotlib.pyplot as plt\n",
    "import matplotlib\n",
    "# matplotlib.rcParams['text.usetex'] = True\n",
    "np.set_printoptions(precision=2)\n",
    "\n",
    "font_size = 15\n",
    "font_size_legend = 15\n",
    "font_size_ticks = 15\n",
    "\n",
    "data = fetch_olivetti_faces()\n",
    "identities = data.target\n",
    "faces = data.images.reshape((len(data.images), -1))\n",
    "image_shape=(64,64)"
   ]
  },
  {
   "cell_type": "code",
   "execution_count": 2,
   "metadata": {},
   "outputs": [],
   "source": [
    "indices_test = np.arange(9,400,10)\n",
    "indices_train = np.setdiff1d(np.arange(0,400,1), indices_test, assume_unique=False)\n",
    "\n",
    "training_set = faces[indices_train,:]\n",
    "train_labels = identities[indices_train]\n",
    "test_set = faces[indices_test,:]\n",
    "test_labels = identities[indices_test]\n",
    "n_test = len(test_labels)"
   ]
  },
  {
   "cell_type": "code",
   "execution_count": null,
   "metadata": {},
   "outputs": [],
   "source": [
    "# Principal component analysis\n",
    "mean_face = np.mean(training_set, axis=0)\n",
    "sample_covariance_matrix = np.cov(training_set.T)\n",
    "eigvals,U = np.linalg.eig(sample_covariance_matrix)\n",
    "U = np.real(U) # Principal directions"
   ]
  },
  {
   "cell_type": "code",
   "execution_count": null,
   "metadata": {},
   "outputs": [],
   "source": [
    "errors = []\n",
    "k_max = 100\n",
    "for k in np.arange(k_max):\n",
    "\n",
    "    # k first principal components for each face\n",
    "    pcs_train = (train_set - mean_face) @ U[:,:k]\n",
    "    pcs_test = (test_set - mean_face) @ U[:,:k]\n",
    "    \n",
    "    errors_k = 0\n",
    "    \n",
    "    for ind in range(n_test):\n",
    "        \n",
    "        closest_ind = np.argmin(np.sum((pcs_test[ind,:]-pcs_train)**2,axis=1))\n",
    "        estimated_label = train_labels[closest_ind]\n",
    "        if estimated_label != test_labels[ind]:\n",
    "            errors_k += 1\n",
    "    # print('Number of principal components:',k+1)\n",
    "    # print(\"Errors:\",errors_k)        \n",
    "    errors.append(errors_k)"
   ]
  },
  {
   "cell_type": "code",
   "execution_count": null,
   "metadata": {},
   "outputs": [],
   "source": [
    "plt.figure(figsize=(10,4))\n",
    "plt.plot(np.arange(1,len(errors)+1,1),errors,\"o\",markersize=2,markerfacecolor='black',markeredgecolor=\"black\",\n",
    "         markeredgewidth=2)\n",
    "plt.xlabel(r\"Dimensionality (number of principal components)\",fontsize=font_size,labelpad = 5)\n",
    "plt.ylabel(r'Errors',fontsize=font_size,labelpad = 20)\n",
    "plt.xticks(fontsize=font_size_ticks)\n",
    "plt.yticks(fontsize=font_size_ticks)\n",
    "plt.xlim([0,100])\n",
    "plt.grid(True)"
   ]
  },
  {
   "cell_type": "code",
   "execution_count": null,
   "metadata": {},
   "outputs": [],
   "source": [
    "k = 42 - 1\n",
    "pcs_train = (train_set - mean_face) @ U[:,:k]\n",
    "pcs_test = (test_set - mean_face) @ U[:,:k]\n",
    "\n",
    "indices = [3,4,8,9,12,21,34]\n",
    "\n",
    "for ind in indices:\n",
    "    \n",
    "    fig, (ax1, ax2, ax3, ax4) = plt.subplots(1, 4)\n",
    "    test_face = test_set[ind,:]\n",
    "    closest_ind = np.argmin(np.sum((pcs_test[ind,:]-pcs_train)**2,axis=1))\n",
    "    estimated_label = train_labels[closest_ind]\n",
    "    \n",
    "    closest = train_set[closest_ind,:]\n",
    "    test_approx = mean_face + pcs_test[ind] @ U[:,:k].T\n",
    "    closest_approx = mean_face + pcs_train[closest_ind] @ U[:,:k].T\n",
    "    \n",
    "    ax1.imshow(test_face.reshape(image_shape), cmap=plt.cm.gray, #cmap=plt.cm.gray_r,\n",
    "                   interpolation='nearest',\n",
    "                   vmin=test_face.min(), vmax=test_face.max())\n",
    "    ax1.set_xticks(())\n",
    "    ax1.set_yticks(())\n",
    "    ax1.set_title('Test image')\n",
    "    \n",
    "    ax2.imshow(test_approx.reshape(image_shape), cmap=plt.cm.gray, #cmap=plt.cm.gray_r,\n",
    "                   interpolation='nearest',\n",
    "                   vmin=test_approx.min(), vmax=test_approx.max())\n",
    "    ax2.set_xticks(())\n",
    "    ax2.set_yticks(())\n",
    "    ax2.set_title('Low-dimensional\\n approximation')\n",
    "    \n",
    "    ax3.imshow(closest_approx.reshape(image_shape), cmap=plt.cm.gray, #cmap=plt.cm.gray_r,\n",
    "                   interpolation='nearest',\n",
    "                   vmin=closest.min(), vmax=closest.max())\n",
    "    ax3.set_xticks(())\n",
    "    ax3.set_yticks(())\n",
    "    ax3.set_title('Closest\\n (low dimensional)')\n",
    "    \n",
    "    ax4.imshow(closest.reshape(image_shape), cmap=plt.cm.gray, #cmap=plt.cm.gray_r,\n",
    "                   interpolation='nearest',\n",
    "                   vmin=closest_approx.min(), vmax=closest_approx.max())\n",
    "    ax4.set_xticks(())\n",
    "    ax4.set_yticks(())\n",
    "    ax4.set_title('Estimate')"
   ]
  },
  {
   "cell_type": "code",
   "execution_count": null,
   "metadata": {},
   "outputs": [],
   "source": []
  }
 ],
 "metadata": {
  "kernelspec": {
   "display_name": "Python 3 (ipykernel)",
   "language": "python",
   "name": "python3"
  },
  "language_info": {
   "codemirror_mode": {
    "name": "ipython",
    "version": 3
   },
   "file_extension": ".py",
   "mimetype": "text/x-python",
   "name": "python",
   "nbconvert_exporter": "python",
   "pygments_lexer": "ipython3",
   "version": "3.11.9"
  }
 },
 "nbformat": 4,
 "nbformat_minor": 4
}
