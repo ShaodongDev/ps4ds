{
 "cells": [
  {
   "cell_type": "markdown",
   "metadata": {},
   "source": [
    "[Probability and Statistics for Data Science](https://www.ps4ds.net/) \n",
    "\n",
    "Code for Exercise 11.13\n",
    "\n",
    "Topic modeling via low-rank modeling for a small made-up dataset\\\n",
    "Topics: Low-rank model, singular value decomposition, nonnegative matrix factorization \n",
    "\n",
    "Author: Carlos Fernandez-Granda"
   ]
  },
  {
   "cell_type": "code",
   "execution_count": 1,
   "metadata": {},
   "outputs": [
    {
     "name": "stdout",
     "output_type": "stream",
     "text": [
      "U\n",
      "[[ 0.244  0.465  0.243  0.317  0.583  0.474]\n",
      " [ 0.645 -0.233  0.673 -0.028 -0.179 -0.209]\n",
      " [ 0.076  0.391  0.08  -0.772 -0.282  0.399]]\n",
      "V\n",
      "[[ 0.184  0.238  0.509  0.382  0.461  0.339  0.199  0.296  0.224]\n",
      " [ 0.468  0.012 -0.225 -0.148 -0.247 -0.071  0.629 -0.053  0.494]\n",
      " [ 0.133 -0.468  0.304  0.144  0.373 -0.518  0.044 -0.485  0.07 ]]\n",
      "s\n",
      "[23.642 18.825 14.232  3.63   2.026  1.365]\n",
      "rank 3\n",
      "[[ 6.885e+00  1.016e+00  5.364e-01  5.558e-01  6.722e-02  5.387e-01\n",
      "   8.825e+00  5.383e-01  7.366e+00]\n",
      " [ 7.035e-01 -4.418e-02  8.278e+00  5.652e+00  8.233e+00  1.150e+00\n",
      "  -3.288e-01  7.923e-01  6.827e-01]\n",
      " [ 7.140e+00  9.840e-01  4.236e-01  4.763e-01 -5.140e-02  4.564e-01\n",
      "   9.159e+00  4.686e-01  7.630e+00]\n",
      " [-3.229e-01  6.919e+00  5.961e-01  1.348e+00 -5.137e-01  8.274e+00\n",
      "   6.744e-01  7.584e+00  6.459e-01]\n",
      " [ 4.241e-01  5.110e+00  6.554e+00  5.175e+00  5.689e+00  6.982e+00\n",
      "   4.421e-01  6.208e+00  1.136e+00]\n",
      " [ 9.708e-01 -3.668e-02  8.319e+00  5.683e+00  8.261e+00  1.136e+00\n",
      "   5.388e-03  7.808e-01  9.640e-01]]\n",
      "W\n",
      "[[0.027 2.228 0.    0.    1.592 2.238]\n",
      " [0.096 0.    0.076 3.132 2.323 0.   ]\n",
      " [2.134 0.    2.215 0.    0.    0.034]]\n",
      "H\n",
      "[[0.335 0.    3.735 2.541 3.672 0.518 0.    0.35  0.348]\n",
      " [0.    2.206 0.215 0.451 0.    2.645 0.206 2.425 0.222]\n",
      " [3.225 0.373 0.193 0.198 0.    0.121 4.128 0.133 3.433]]\n",
      "WH\n",
      "[[6.891 1.006 0.534 0.535 0.1   0.526 8.831 0.526 7.357]\n",
      " [0.747 0.    8.322 5.661 8.181 1.154 0.    0.78  0.776]\n",
      " [7.143 0.994 0.443 0.473 0.    0.47  9.161 0.481 7.621]\n",
      " [0.    6.909 0.673 1.411 0.    8.285 0.646 7.597 0.694]\n",
      " [0.534 5.123 6.446 5.092 5.847 6.969 0.479 6.191 1.07 ]\n",
      " [0.861 0.013 8.364 5.692 8.216 1.163 0.142 0.788 0.897]]\n",
      "SVD error: 4.38\n",
      "NMF error: 4.44\n"
     ]
    }
   ],
   "source": [
    "import numpy as np\n",
    "from sklearn.decomposition import NMF\n",
    "\n",
    "topics = [\"singer\", \"exports\", \"congress\", \"elections\", \"candidate\", \"stock\", \n",
    "          \"concert\", \"market\", \"band\"]\n",
    "X = np.array([[6,1,1,0,0,1,9,0,8], [1,0,9,5,8,1,0,1,0], [8,1,0,1,0,0,9,1,7],\n",
    "              [0,7,1,0,0,9,1,7,0], [0,5,6,7,5,6,0,7,2], [1,0,8,5,9,2,0,0,1]])\n",
    "model = NMF(n_components=3, init='random', random_state=0)\n",
    "model.fit(X) \n",
    "W = model.fit_transform(X);\n",
    "H = model.components_;\n",
    "\n",
    "U, s, V = np.linalg.svd(X, full_matrices=False)\n",
    "print(\"U\")\n",
    "print( np.round(U[:,:3].T,3))\n",
    "print( \"V\")\n",
    "print( np.round(V[:3,:],3))\n",
    "print( \"s\")\n",
    "print( np.round(s,3))\n",
    "\n",
    "print(\"rank 3\")\n",
    "L3 = np.dot(U[:,:3], np.dot(np.diag(s[:3]),V[:3,:])) \n",
    "np.set_printoptions(precision=3)\n",
    "print(L3)\n",
    "print( \"W\")\n",
    "print( W.T)\n",
    "print( \"H\")\n",
    "print( H)\n",
    "WH = np.dot(W,H)\n",
    "print( \"WH\")\n",
    "print(WH )\n",
    "print(\"SVD error: \" + str(np.round(np.linalg.norm(X[:]-L3[:]),2)))\n",
    "print(\"NMF error: \" + str(np.round(np.linalg.norm(X[:]-WH[:]),2)))"
   ]
  }
 ],
 "metadata": {
  "kernelspec": {
   "display_name": "Python 3 (ipykernel)",
   "language": "python",
   "name": "python3"
  },
  "language_info": {
   "codemirror_mode": {
    "name": "ipython",
    "version": 3
   },
   "file_extension": ".py",
   "mimetype": "text/x-python",
   "name": "python",
   "nbconvert_exporter": "python",
   "pygments_lexer": "ipython3",
   "version": "3.11.9"
  }
 },
 "nbformat": 4,
 "nbformat_minor": 4
}
