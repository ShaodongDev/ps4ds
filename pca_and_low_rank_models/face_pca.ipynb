{
 "cells": [
  {
   "cell_type": "markdown",
   "id": "55a5b540-c33e-451d-ab05-20a31e911aba",
   "metadata": {},
   "source": [
    "Material for the book [Probability and Statistics for Data Science](https://a.co/d/cAss9mO). A free preprint, videos, code, slides and solutions to exercises are available at https://www.ps4ds.net/\n",
    "\n",
    "Code for Examples 11.26 and 11.29\n",
    "\n",
    "Principal component analysis of face images\\\n",
    "Topics and relevant videos: [Principal component analysis](https://www.youtube.com/watch?v=hPM7F2CP9vQ), [dimensionality reduction](https://www.youtube.com/watch?v=ODMRtd3dj7s) \n",
    "\n",
    "Author: Carlos Fernandez-Granda"
   ]
  },
  {
   "cell_type": "code",
   "execution_count": 1,
   "id": "a725da24",
   "metadata": {},
   "outputs": [],
   "source": [
    "import numpy as np\n",
    "from sklearn.datasets import fetch_olivetti_faces\n",
    "import matplotlib.pyplot as plt\n",
    "import matplotlib\n",
    "# matplotlib.rcParams['text.usetex'] = True\n",
    "np.set_printoptions(precision=2)\n",
    "\n",
    "font_size = 15\n",
    "font_size_legend = 15\n",
    "font_size_ticks = 15\n",
    "font_size_graph = 15"
   ]
  },
  {
   "cell_type": "code",
   "execution_count": 2,
   "id": "b35bb9a4",
   "metadata": {},
   "outputs": [],
   "source": [
    "data = fetch_olivetti_faces()\n",
    "identities = data.target\n",
    "faces = data.images.reshape((len(data.images), -1))\n",
    "image_shape=(64,64)"
   ]
  },
  {
   "cell_type": "code",
   "execution_count": 3,
   "id": "8d1c6c1e",
   "metadata": {},
   "outputs": [
    {
     "data": {
      "image/png": "[encoded data removed]",
      "text/plain": [
       "<Figure size 300x300 with 1 Axes>"
      ]
     },
     "metadata": {},
     "output_type": "display_data"
    }
   ],
   "source": [
    "mean_face = np.mean(faces, axis=0)\n",
    "\n",
    "plt.figure(figsize=(3,3))\n",
    "plt.imshow(mean_face.reshape(image_shape), cmap=plt.cm.gray, \n",
    "               interpolation='nearest',\n",
    "               vmin=mean_face.min(), vmax=mean_face.max())\n",
    "plt.xticks(())\n",
    "plt.yticks(())\n",
    "plt.title(\"Mean face\");"
   ]
  },
  {
   "cell_type": "code",
   "execution_count": null,
   "id": "fbbf135b",
   "metadata": {},
   "outputs": [],
   "source": [
    "# Principal component analysis\n",
    "sample_covariance_matrix = np.cov(faces.T)\n",
    "eigvals,U = np.linalg.eig(sample_covariance_matrix)\n",
    "U = np.real(U) # Principal directions"
   ]
  },
  {
   "cell_type": "code",
   "execution_count": null,
   "id": "240a0c8e",
   "metadata": {},
   "outputs": [],
   "source": [
    "fig = plt.figure(figsize = (12,4)) \n",
    "plt.plot(eigvals[:399], markersize=2, color=\"white\",  marker='o', markeredgewidth=2,\n",
    "            linestyle = 'None',markeredgecolor=\"black\")\n",
    "plt.xticks(fontsize=font_size_ticks) \n",
    "plt.yticks([0,5,10,15,20],fontsize=font_size_ticks)\n",
    "plt.xlabel(r\"i\", fontsize=font_size,labelpad=25)\n",
    "plt.ylabel(r\"Eigenvalue $\\lambda_i$\", fontsize=font_size,labelpad=10)\n",
    "\n",
    "inds = [0,1,2,3,4,5,6,9,14,19,29,39,49,99,149,199,249,299,349,399]\n",
    "\n",
    "for ind in inds:\n",
    "    pd = U[:,ind]\n",
    "    plt.figure(figsize=(3,3))\n",
    "    plt.imshow(pd.reshape(image_shape), cmap=plt.cm.gray, #cmap=plt.cm.gray_r,\n",
    "                   interpolation='nearest',\n",
    "                   vmin=pd.min(), vmax=pd.max())\n",
    "    plt.xticks(())\n",
    "    plt.yticks(())\n",
    "    plt.title(\"Principal direction: \" + str(ind+1) + \"\\n Variance \" + str(round(float(eigvals[ind]),3)))"
   ]
  },
  {
   "cell_type": "code",
   "execution_count": null,
   "id": "cdbe17db",
   "metadata": {},
   "outputs": [],
   "source": [
    "selected_ind = 133\n",
    "face = faces[selected_ind,:]\n",
    "\n",
    "plt.figure(figsize=(3,3))\n",
    "plt.imshow(face.reshape(image_shape), cmap=plt.cm.gray, #cmap=plt.cm.gray_r,\n",
    "               interpolation='nearest',\n",
    "               vmin=face.min(), vmax=face.max())\n",
    "plt.xticks(())\n",
    "plt.yticks(())\n",
    "\n",
    "centered_face = face - mean_face\n",
    "\n",
    "k = 7 \n",
    "\n",
    "for ind in range(k):\n",
    "    pd = U[:,ind]\n",
    "    print(\"Component \" + str(ind) + \" = \" + str(round(centered_face @ pd,2)))"
   ]
  },
  {
   "cell_type": "code",
   "execution_count": null,
   "id": "4922cad9",
   "metadata": {},
   "outputs": [],
   "source": [
    "k_vals = [5,7,10,20,30,50,100,150,200,250,300,350,399]\n",
    "\n",
    "for k in k_vals:\n",
    "    \n",
    "    approximation = mean_face + centered_face @ U[:,:k] @ U[:,:k].T\n",
    "    \n",
    "    plt.figure(figsize=(3,3))\n",
    "    plt.imshow(approximation.reshape(image_shape), cmap=plt.cm.gray, #cmap=plt.cm.gray_r,\n",
    "                   interpolation='nearest',\n",
    "                   vmin=approximation.min(), vmax=approximation.max())\n",
    "    plt.xticks(())\n",
    "    plt.yticks(())\n",
    "    plt.title(\"Approximation of dimension \" + str(k+1));"
   ]
  },
  {
   "cell_type": "code",
   "execution_count": null,
   "id": "7165bac8-3006-4cc5-b1d4-7867b3c59a3a",
   "metadata": {},
   "outputs": [],
   "source": []
  }
 ],
 "metadata": {
  "kernelspec": {
   "display_name": "Python 3 (ipykernel)",
   "language": "python",
   "name": "python3"
  },
  "language_info": {
   "codemirror_mode": {
    "name": "ipython",
    "version": 3
   },
   "file_extension": ".py",
   "mimetype": "text/x-python",
   "name": "python",
   "nbconvert_exporter": "python",
   "pygments_lexer": "ipython3",
   "version": "3.11.9"
  }
 },
 "nbformat": 4,
 "nbformat_minor": 5
}
