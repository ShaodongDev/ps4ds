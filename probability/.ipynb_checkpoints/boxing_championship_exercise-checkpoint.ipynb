{
 "cells": [
  {
   "cell_type": "code",
   "execution_count": 2,
   "metadata": {},
   "outputs": [],
   "source": [
    "# https://www.ps4ds.net/\n",
    "# Probability and Statistics for Data Science \n",
    "# Author: Carlos Fernandez-Granda\n",
    "# Code for Exercise 1.13 \n",
    "\n",
    "import numpy as np\n",
    "from numpy.random import default_rng\n"
   ]
  },
  {
   "cell_type": "code",
   "execution_count": 3,
   "metadata": {},
   "outputs": [
    {
     "name": "stdout",
     "output_type": "stream",
     "text": [
      "Simulation  1\n",
      "Saul beats Manny\n",
      "Floyd beats Saul\n",
      "Simulation  2\n",
      "Manny beats Saul\n",
      "Floyd beats Manny\n",
      "Simulation  3\n",
      "Saul beats Manny\n",
      "Floyd beats Saul\n",
      "Simulation  4\n",
      "Manny beats Saul\n",
      "Manny beats Floyd\n",
      "Simulation  5\n",
      "Manny beats Saul\n",
      "Manny beats Floyd\n",
      "Simulation  6\n",
      "Saul beats Manny\n",
      "Floyd beats Saul\n",
      "Simulation  7\n",
      "Manny beats Saul\n",
      "Floyd beats Manny\n",
      "Simulation  8\n",
      "Manny beats Saul\n",
      "Floyd beats Manny\n",
      "Simulation  9\n",
      "Saul beats Manny\n",
      "Floyd beats Saul\n",
      "Simulation  10\n",
      "Saul beats Manny\n",
      "Floyd beats Saul\n",
      "Simulation  11\n",
      "Manny beats Saul\n",
      "Floyd beats Manny\n",
      "Simulation  12\n",
      "Manny beats Saul\n",
      "Floyd beats Manny\n",
      "Simulation  13\n",
      "Manny beats Saul\n",
      "Floyd beats Manny\n",
      "Simulation  14\n",
      "Saul beats Manny\n",
      "Floyd beats Saul\n",
      "Simulation  15\n",
      "Manny beats Saul\n",
      "Manny beats Floyd\n",
      "Simulation  16\n",
      "Saul beats Manny\n",
      "Floyd beats Saul\n",
      "Simulation  17\n",
      "Saul beats Manny\n",
      "Floyd beats Saul\n",
      "Simulation  18\n",
      "Saul beats Manny\n",
      "Floyd beats Saul\n",
      "Simulation  19\n",
      "Saul beats Manny\n",
      "Floyd beats Saul\n",
      "Simulation  20\n",
      "Saul beats Manny\n",
      "Saul beats Floyd\n"
     ]
    }
   ],
   "source": [
    "rng = default_rng(2024)\n",
    "\n",
    "tries = 20\n",
    "p_M_beats_S = 0.4\n",
    "p_M_beats_F = 0.25\n",
    "p_S_beats_F = 0.1\n",
    "\n",
    "for ind in range(tries):\n",
    "    print(\"Simulation \",ind+1)\n",
    "    if rng.random() < p_M_beats_S:\n",
    "        print(\"Manny beats Saul\")\n",
    "        if rng.random() < p_M_beats_F:\n",
    "            print(\"Manny beats Floyd\")\n",
    "        else:\n",
    "            print(\"Floyd beats Manny\")\n",
    "    else:\n",
    "        print(\"Saul beats Manny\")\n",
    "        if rng.random() < p_S_beats_F:\n",
    "            print(\"Saul beats Floyd\")\n",
    "        else:\n",
    "            print(\"Floyd beats Saul\")  "
   ]
  },
  {
   "cell_type": "code",
   "execution_count": null,
   "metadata": {},
   "outputs": [],
   "source": []
  }
 ],
 "metadata": {
  "kernelspec": {
   "display_name": "Python 3 (ipykernel)",
   "language": "python",
   "name": "python3"
  },
  "language_info": {
   "codemirror_mode": {
    "name": "ipython",
    "version": 3
   },
   "file_extension": ".py",
   "mimetype": "text/x-python",
   "name": "python",
   "nbconvert_exporter": "python",
   "pygments_lexer": "ipython3",
   "version": "3.11.9"
  }
 },
 "nbformat": 4,
 "nbformat_minor": 4
}
