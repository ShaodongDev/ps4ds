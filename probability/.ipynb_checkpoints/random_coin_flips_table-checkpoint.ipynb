{
 "cells": [
  {
   "cell_type": "code",
   "execution_count": 7,
   "metadata": {},
   "outputs": [
    {
     "name": "stdout",
     "output_type": "stream",
     "text": [
      "15\n",
      "13\n",
      "10\n",
      "9\n",
      "9\n",
      "8\n",
      "9\n",
      "9\n",
      "12\n",
      "8\n"
     ]
    }
   ],
   "source": [
    "# https://www.ps4ds.net/\n",
    "# Probability and Statistics for Data Science \n",
    "# Author: Carlos Fernandez-Granda\n",
    "# Code for Exercise 1.14 \n",
    "\n",
    "import numpy as np\n",
    "\n",
    "np.random.seed(2020)\n",
    "times = 10\n",
    "n = 20\n",
    "p = 0.5\n",
    "for ind in range(times):\n",
    "    print(np.random.binomial(n,p))\n",
    "    "
   ]
  },
  {
   "cell_type": "code",
   "execution_count": null,
   "metadata": {},
   "outputs": [],
   "source": []
  }
 ],
 "metadata": {
  "kernelspec": {
   "display_name": "Python 3 (ipykernel)",
   "language": "python",
   "name": "python3"
  },
  "language_info": {
   "codemirror_mode": {
    "name": "ipython",
    "version": 3
   },
   "file_extension": ".py",
   "mimetype": "text/x-python",
   "name": "python",
   "nbconvert_exporter": "python",
   "pygments_lexer": "ipython3",
   "version": "3.11.9"
  }
 },
 "nbformat": 4,
 "nbformat_minor": 4
}
