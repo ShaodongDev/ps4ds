{
 "cells": [
  {
   "cell_type": "markdown",
   "id": "5736cd45-c5dc-4662-9bcf-729de0dd01a1",
   "metadata": {},
   "source": [
    "[Probability and Statistics for Data Science](https://www.ps4ds.net/) \n",
    "\n",
    "Code for Exercise 1.14 \n",
    "\n",
    "Author: Carlos Fernandez-Granda"
   ]
  },
  {
   "cell_type": "code",
   "execution_count": 7,
   "id": "0bcbb89b-414e-4369-ac95-45b39f99dca4",
   "metadata": {},
   "outputs": [],
   "source": [
    "import numpy as np\n",
    "from numpy.random import default_rng"
   ]
  },
  {
   "cell_type": "code",
   "execution_count": 6,
   "id": "ca55f5e1-e051-4b06-81a0-6df693b76e95",
   "metadata": {},
   "outputs": [
    {
     "name": "stdout",
     "output_type": "stream",
     "text": [
      "Honda\n",
      "[False  True False  True  True  True  True  True False  True  True  True\n",
      " False False  True  True  True  True  True False]\n",
      "Zangief\n",
      "[ True False False False  True False  True False  True  True False  True\n",
      " False False  True False  True False  True  True]\n",
      "Blanka\n",
      "[False  True False False False False  True False  True  True False False\n",
      " False  True False False False False False False]\n"
     ]
    }
   ],
   "source": [
    "n= 20\n",
    "rng = default_rng(1234)\n",
    "print(\"Honda\")\n",
    "samples_honda = rng.random(n) < 0.8\n",
    "print(samples_honda)\n",
    "print(\"Zangief\")\n",
    "samples_zangief = rng.random(n) < 0.5\n",
    "print(samples_zangief)\n",
    "print(\"Blanka\")\n",
    "samples_blanka = rng.random(n) < 0.4\n",
    "print(samples_blanka)"
   ]
  },
  {
   "cell_type": "code",
   "execution_count": null,
   "id": "05d0ee09-b98e-4b51-9299-5c0728e5ca68",
   "metadata": {},
   "outputs": [],
   "source": []
  }
 ],
 "metadata": {
  "kernelspec": {
   "display_name": "Python 3 (ipykernel)",
   "language": "python",
   "name": "python3"
  },
  "language_info": {
   "codemirror_mode": {
    "name": "ipython",
    "version": 3
   },
   "file_extension": ".py",
   "mimetype": "text/x-python",
   "name": "python",
   "nbconvert_exporter": "python",
   "pygments_lexer": "ipython3",
   "version": "3.11.9"
  }
 },
 "nbformat": 4,
 "nbformat_minor": 5
}
