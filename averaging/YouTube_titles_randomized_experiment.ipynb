{
 "cells": [
  {
   "cell_type": "markdown",
   "metadata": {},
   "source": [
    "[Probability and Statistics for Data Science](https://www.ps4ds.net/) \n",
    "\n",
    "Code for Figure 7.9\n",
    "\n",
    "Causal inference analysis to evaluate whether all caps titles attract more views on YouTube\\\n",
    "The data were gathered by setting the titles of the videos associated with the book to all caps or proper case independently at random, which ensures that the results can be interpreted causally\\\n",
    "Topics: Causal inference, average treatment effect, box plot \n",
    "\n",
    "Author: Carlos Fernandez-Granda"
   ]
  },
  {
   "cell_type": "code",
   "execution_count": 6,
   "metadata": {},
   "outputs": [
    {
     "name": "stdout",
     "output_type": "stream",
     "text": [
      "Videos with all caps titles 19\n",
      "Sample mean of number of views 133.47\n",
      "Sample median of number of views 125.0\n",
      "Videos with proper case titles 27\n",
      "Sample mean of number of views 131.89\n",
      "Sample median of number of views 136.0\n",
      "Average treatment effect 1.58\n"
     ]
    }
   ],
   "source": [
    "import numpy as np\n",
    "import matplotlib.pyplot as plt \n",
    "import seaborn as sns\n",
    "\n",
    "font_size = 25\n",
    "font_size_legend = 22\n",
    "font_size_ticks = 22\n",
    "\n",
    "views_all_caps = np.array([45,93,125,116,102,157,134,80,189,108,117,98,93,185,197,160,174,142,221])\n",
    "views_no_all_caps = np.array([64,57,41,64,55,134,108,136,141,150,167,78,85,110,160,150,106,136,\n",
    "                             175,163,143,179,146,181,124,145,363])\n",
    "\n",
    "print(\"Videos with all caps titles\",len(views_all_caps))\n",
    "print(\"Sample mean of number of views\",round(np.mean(views_all_caps),2))\n",
    "print(\"Sample median of number of views\",np.median(views_all_caps))\n",
    "\n",
    "print(\"Videos with proper case titles\",len(views_no_all_caps))\n",
    "print(\"Sample mean of number of views\",round(np.mean(views_no_all_caps),2))\n",
    "print(\"Sample median of number of views\",np.median(views_no_all_caps))\n",
    "\n",
    "print(\"Average treatment effect\",round(np.mean(views_all_caps)-np.mean(views_no_all_caps),2))\n",
    "# print(np.random.binomial(46, 0.5, 1))"
   ]
  },
  {
   "cell_type": "code",
   "execution_count": 3,
   "metadata": {},
   "outputs": [
    {
     "data": {
      "image/png": "[encoded data removed]",
      "text/plain": [
       "<Figure size 1080x432 with 1 Axes>"
      ]
     },
     "metadata": {
      "needs_background": "light"
     },
     "output_type": "display_data"
    }
   ],
   "source": [
    "plt.figure(figsize=(15,6))\n",
    "plt.xticks(fontsize=font_size_ticks) \n",
    "plt.yticks(fontsize=font_size_ticks)\n",
    "dots = dict(markerfacecolor='black', marker='.',markersize=15)\n",
    "median_props = dict(color='black', lw=2.5)\n",
    "flierprops = dict(marker='+', markerfacecolor = 'steelblue', markeredgecolor='steelblue', markersize=16, mew=5,\n",
    "                  linestyle='none')\n",
    "whiskerprops = dict(linewidth=2, ls=\"--\", color='steelblue')\n",
    "plt.boxplot([views_no_all_caps,views_all_caps],boxprops=median_props, medianprops=median_props,flierprops=dots,whiskerprops=median_props,\n",
    "            capprops=median_props,widths=0.4,vert=False)\n",
    "plt.xticks(fontsize=font_size_ticks) \n",
    "plt.yticks([1,2],[\"Proper case\",\"All caps\"],fontsize=font_size_ticks)\n",
    "plt.xlabel(\"Views\", fontsize=font_size,labelpad=20)"
   ]
  }
 ],
 "metadata": {
  "kernelspec": {
   "display_name": "Python 3 (ipykernel)",
   "language": "python",
   "name": "python3"
  },
  "language_info": {
   "codemirror_mode": {
    "name": "ipython",
    "version": 3
   },
   "file_extension": ".py",
   "mimetype": "text/x-python",
   "name": "python",
   "nbconvert_exporter": "python",
   "pygments_lexer": "ipython3",
   "version": "3.11.9"
  }
 },
 "nbformat": 4,
 "nbformat_minor": 4
}
