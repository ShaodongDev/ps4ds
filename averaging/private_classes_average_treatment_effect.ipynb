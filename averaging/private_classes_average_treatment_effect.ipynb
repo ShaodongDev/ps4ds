{
 "cells": [
  {
   "cell_type": "markdown",
   "id": "1a5f81a6-d1de-4262-beeb-aebb1ecc386f",
   "metadata": {},
   "source": [
    "[Probability and Statistics for Data Science](https://www.ps4ds.net/) \n",
    "\n",
    "Code for Examples 7.64 and 7.66\n",
    "\n",
    "Causal inference analysis to evaluate the effect of private lessons on student grades, taking into account that there is a possible confounding factor (whether they have previously failed the course)\\\n",
    "Topics: Causal inference, average treatment effect, confounding factor, adjusting for confounders \n",
    "\n",
    "Author: Carlos Fernandez-Granda\\\n",
    "Data source: https://archive.ics.uci.edu/dataset/320/student+performance"
   ]
  },
  {
   "cell_type": "code",
   "execution_count": 15,
   "id": "2d58987e",
   "metadata": {},
   "outputs": [],
   "source": [
    "import pandas as pd\n",
    "import numpy as np\n",
    "\n",
    "data = pd.read_csv (\"../data/student_grades/student-mat.csv\", encoding='latin-1',sep=\";\")\n",
    "\n",
    "np.set_printoptions(precision=3)\n",
    "\n",
    "grades = data[\"G3\"]"
   ]
  },
  {
   "cell_type": "code",
   "execution_count": 16,
   "id": "0c0d88c3",
   "metadata": {},
   "outputs": [
    {
     "name": "stdout",
     "output_type": "stream",
     "text": [
      "Fraction with private classes 0.4582\n",
      "Private lessons, sample mean of grade:  10.9227\n",
      "No private lessons, sample mean of grade:  9.986\n",
      "Naive average treatment effect:  0.9367\n",
      "Sample mean if failed:  7.2651\n",
      "Sample mean if didn't fail:  11.2532\n",
      "Fraction of failures: 0.2101\n",
      "\n",
      "Students who previously failed:\n",
      "Received private classes 22\n",
      "Didn't receive private classes 61\n",
      "Fraction with private classes 0.2651\n",
      "Sample mean grade (private lessons):  8.9545\n",
      "Sample mean grade (no private lessons):  6.6557\n",
      "\n",
      "Students who did not previously fail:\n",
      "Received private classes 159\n",
      "Didn't receive private classes 153\n",
      "Fraction with private classes 0.5096\n",
      "Sample mean grade (private lessons):  11.195\n",
      "Sample mean grade (no private lessons):  11.3137\n",
      "\n",
      "Adjusted mean grade (private lessons) 10.7242\n",
      "Adjusted mean grade (no private lessons) 10.335\n",
      "Adjusted average treatment effect 0.3892\n"
     ]
    }
   ],
   "source": [
    "private = np.sum(data[\"paid\"]==\"yes\")\n",
    "prob_private = private / len(data[\"paid\"]) \n",
    "print(\"Fraction with private classes\",np.round(prob_private,4))\n",
    "\n",
    "mean_private = np.mean(grades[data[\"paid\"]==\"yes\"])\n",
    "mean_noprivate = np.mean(grades[data[\"paid\"]==\"no\"])\n",
    "print(\"Private lessons, sample mean of grade: \",np.round(mean_private,4))\n",
    "print(\"No private lessons, sample mean of grade: \",np.round(mean_noprivate,4))\n",
    "\n",
    "print(\"Naive average treatment effect: \",np.round(mean_private - mean_noprivate,4))\n",
    "\n",
    "mean_failures = np.mean(grades[data[\"failures\"] >0])\n",
    "mean_nofailures = np.mean(grades[data[\"failures\"]==0])\n",
    "\n",
    "print(\"Sample mean if failed: \",np.round(mean_failures,4))\n",
    "print(\"Sample mean if didn't fail: \",np.round(mean_nofailures,4))\n",
    "\n",
    "failures = np.sum(data[\"failures\"] >0)\n",
    "no_failures = np.sum(data[\"failures\"] == 0)\n",
    "prob_failures = failures / (failures + no_failures)\n",
    "print(\"Fraction of failures:\",np.round(prob_failures,4))\n",
    "\n",
    "grades_cond = grades[data[\"failures\"] >0]\n",
    "paid_cond = data[\"paid\"][data[\"failures\"]> 0]\n",
    "\n",
    "print(\"\\nStudents who previously failed:\")\n",
    "private_failures = np.sum(paid_cond==\"yes\")\n",
    "prob_private_failures = private_failures / failures \n",
    "print(\"Received private classes\",private_failures)\n",
    "print(\"Didn't receive private classes\",len(paid_cond) - np.sum(paid_cond==\"yes\"))\n",
    "print(\"Fraction with private classes\",np.round(prob_private_failures,4))\n",
    "mean_private_failures = np.mean(grades_cond[paid_cond ==\"yes\"])\n",
    "mean_noprivate_failures = np.mean(grades_cond[paid_cond==\"no\"])\n",
    "print(\"Sample mean grade (private lessons): \",np.round(mean_private_failures,4))\n",
    "print(\"Sample mean grade (no private lessons): \",np.round(mean_noprivate_failures,4))\n",
    "\n",
    "grades_cond = grades[data[\"failures\"] == 0]\n",
    "paid_cond = data[\"paid\"][data[\"failures\"]== 0]\n",
    "\n",
    "print(\"\\nStudents who did not previously fail:\")\n",
    "private_nofailures = np.sum(paid_cond==\"yes\")\n",
    "prob_private_nofailures = private_nofailures / no_failures \n",
    "print(\"Received private classes\",private_nofailures)\n",
    "print(\"Didn't receive private classes\",len(paid_cond) - np.sum(paid_cond==\"yes\"))\n",
    "print(\"Fraction with private classes\",np.round(prob_private_nofailures,4))\n",
    "mean_private_nofailures = np.mean(grades_cond[paid_cond ==\"yes\"])\n",
    "mean_noprivate_nofailures = np.mean(grades_cond[paid_cond==\"no\"])\n",
    "print(\"Sample mean grade (private lessons): \",np.round(mean_private_nofailures,4))\n",
    "print(\"Sample mean grade (no private lessons): \",np.round(mean_noprivate_nofailures,4))\n",
    "\n",
    "adjusted_mean_private = prob_failures * mean_private_failures + (1-prob_failures) * mean_private_nofailures\n",
    "print(\"\\nAdjusted mean grade (private lessons)\",np.round(adjusted_mean_private,4))\n",
    "adjusted_mean_noprivate = prob_failures * mean_noprivate_failures + (1-prob_failures) * mean_noprivate_nofailures\n",
    "print(\"Adjusted mean grade (no private lessons)\",np.round(adjusted_mean_noprivate,4))\n",
    "print(\"Adjusted average treatment effect\",np.round(adjusted_mean_private-adjusted_mean_noprivate,4))"
   ]
  }
 ],
 "metadata": {
  "kernelspec": {
   "display_name": "Python 3 (ipykernel)",
   "language": "python",
   "name": "python3"
  },
  "language_info": {
   "codemirror_mode": {
    "name": "ipython",
    "version": 3
   },
   "file_extension": ".py",
   "mimetype": "text/x-python",
   "name": "python",
   "nbconvert_exporter": "python",
   "pygments_lexer": "ipython3",
   "version": "3.11.9"
  }
 },
 "nbformat": 4,
 "nbformat_minor": 5
}
